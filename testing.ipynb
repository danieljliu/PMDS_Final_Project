{
 "cells": [
  {
   "cell_type": "code",
   "execution_count": 1,
   "outputs": [],
   "source": [
    "from library import initialize_data\n",
    "import csv\n",
    "import pandas\n",
    "import matplotlib"
   ],
   "metadata": {
    "collapsed": false,
    "pycharm": {
     "name": "#%%\n"
    }
   }
  },
  {
   "cell_type": "code",
   "execution_count": 2,
   "outputs": [],
   "source": [
    "with open('data/tft_match_history.csv') as file:\n",
    "    reader = csv.reader(file)\n",
    "    header = next(reader)\n",
    "    tst = next(reader)\n",
    "\n",
    "    placement = tst[0]\n",
    "\n",
    "# print(header[33:])\n",
    "champs = header[33:]\n",
    "champ_indices = {}\n",
    "for i in range(len(champs)):\n",
    "    if i % 4 == 0:\n",
    "        champ_indices[champs[i]] = i\n",
    "\n",
    "#print(champ_indices)\n",
    "#print(len(champ_indices.keys()))\n",
    "\n",
    "champ_dict = initialize_data('champion')\n",
    "trait_dict = initialize_data('trait')\n",
    "\n"
   ],
   "metadata": {
    "collapsed": false,
    "pycharm": {
     "name": "#%%\n"
    }
   }
  },
  {
   "cell_type": "code",
   "execution_count": null,
   "outputs": [],
   "source": [],
   "metadata": {
    "collapsed": false,
    "pycharm": {
     "name": "#%%\n"
    }
   }
  },
  {
   "cell_type": "code",
   "execution_count": 20,
   "outputs": [
    {
     "name": "stdout",
     "output_type": "stream",
     "text": [
      "placement 0\n",
      "match_id 1\n",
      "augment0 2\n",
      "augment1 3\n",
      "augment2 4\n",
      "Set7_Assassin 5\n",
      "Set7_Astral 6\n",
      "Set7_Bard 7\n",
      "Set7_Bruiser 8\n",
      "Set7_Cannoneer 9\n",
      "Set7_Cavalier 10\n",
      "Set7_Dragon 11\n",
      "Set7_Dragonmancer 12\n",
      "Set7_Evoker 13\n",
      "Set7_Guardian 14\n",
      "Set7_Guild 15\n",
      "Set7_Jade 16\n",
      "Set7_Legend 17\n",
      "Set7_Mage 18\n",
      "Set7_Mirage 19\n",
      "Set7_Mystic 20\n",
      "Set7_Ragewing 21\n",
      "Set7_Revel 22\n",
      "Set7_Scalescorn 23\n",
      "Set7_Shapeshifter 24\n",
      "Set7_Shimmerscale 25\n",
      "Set7_SpellThief 26\n",
      "Set7_Starcaller 27\n",
      "Set7_Swiftshot 28\n",
      "Set7_Tempest 29\n",
      "Set7_Trainer 30\n",
      "Set7_Warrior 31\n",
      "Set7_Whispers 32\n",
      "TFT7_Aatrox 33\n",
      "TFT7_Aatrox_item0 34\n",
      "TFT7_Aatrox_item1 35\n",
      "TFT7_Aatrox_item2 36\n",
      "TFT7_Anivia 37\n",
      "TFT7_Anivia_item0 38\n",
      "TFT7_Anivia_item1 39\n",
      "TFT7_Anivia_item2 40\n",
      "TFT7_AoShin 41\n",
      "TFT7_AoShin_item0 42\n",
      "TFT7_AoShin_item1 43\n",
      "TFT7_AoShin_item2 44\n",
      "TFT7_Ashe 45\n",
      "TFT7_Ashe_item0 46\n",
      "TFT7_Ashe_item1 47\n",
      "TFT7_Ashe_item2 48\n",
      "TFT7_AurelionSol 49\n",
      "TFT7_AurelionSol_item0 50\n",
      "TFT7_AurelionSol_item1 51\n",
      "TFT7_AurelionSol_item2 52\n",
      "TFT7_Bard 53\n",
      "TFT7_Bard_item0 54\n",
      "TFT7_Bard_item1 55\n",
      "TFT7_Bard_item2 56\n",
      "TFT7_Braum 57\n",
      "TFT7_Braum_item0 58\n",
      "TFT7_Braum_item1 59\n",
      "TFT7_Braum_item2 60\n",
      "TFT7_Corki 61\n",
      "TFT7_Corki_item0 62\n",
      "TFT7_Corki_item1 63\n",
      "TFT7_Corki_item2 64\n",
      "TFT7_Diana 65\n",
      "TFT7_Diana_item0 66\n",
      "TFT7_Diana_item1 67\n",
      "TFT7_Diana_item2 68\n",
      "TFT7_DragonBlue 69\n",
      "TFT7_DragonBlue_item0 70\n",
      "TFT7_DragonBlue_item1 71\n",
      "TFT7_DragonBlue_item2 72\n",
      "TFT7_DragonGold 73\n",
      "TFT7_DragonGold_item0 74\n",
      "TFT7_DragonGold_item1 75\n",
      "TFT7_DragonGold_item2 76\n",
      "TFT7_DragonGreen 77\n",
      "TFT7_DragonGreen_item0 78\n",
      "TFT7_DragonGreen_item1 79\n",
      "TFT7_DragonGreen_item2 80\n",
      "TFT7_DragonPurple 81\n",
      "TFT7_DragonPurple_item0 82\n",
      "TFT7_DragonPurple_item1 83\n",
      "TFT7_DragonPurple_item2 84\n",
      "TFT7_Elise 85\n",
      "TFT7_Elise_item0 86\n",
      "TFT7_Elise_item1 87\n",
      "TFT7_Elise_item2 88\n",
      "TFT7_Ezreal 89\n",
      "TFT7_Ezreal_item0 90\n",
      "TFT7_Ezreal_item1 91\n",
      "TFT7_Ezreal_item2 92\n",
      "TFT7_Gnar 93\n",
      "TFT7_Gnar_item0 94\n",
      "TFT7_Gnar_item1 95\n",
      "TFT7_Gnar_item2 96\n",
      "TFT7_Hecarim 97\n",
      "TFT7_Hecarim_item0 98\n",
      "TFT7_Hecarim_item1 99\n",
      "TFT7_Hecarim_item2 100\n",
      "TFT7_Heimerdinger 101\n",
      "TFT7_Heimerdinger_item0 102\n",
      "TFT7_Heimerdinger_item1 103\n",
      "TFT7_Heimerdinger_item2 104\n",
      "TFT7_Illaoi 105\n",
      "TFT7_Illaoi_item0 106\n",
      "TFT7_Illaoi_item1 107\n",
      "TFT7_Illaoi_item2 108\n",
      "TFT7_Jinx 109\n",
      "TFT7_Jinx_item0 110\n",
      "TFT7_Jinx_item1 111\n",
      "TFT7_Jinx_item2 112\n",
      "TFT7_Karma 113\n",
      "TFT7_Karma_item0 114\n",
      "TFT7_Karma_item1 115\n",
      "TFT7_Karma_item2 116\n",
      "TFT7_Kayn 117\n",
      "TFT7_Kayn_item0 118\n",
      "TFT7_Kayn_item1 119\n",
      "TFT7_Kayn_item2 120\n",
      "TFT7_LeeSin 121\n",
      "TFT7_LeeSin_item0 122\n",
      "TFT7_LeeSin_item1 123\n",
      "TFT7_LeeSin_item2 124\n",
      "TFT7_Leona 125\n",
      "TFT7_Leona_item0 126\n",
      "TFT7_Leona_item1 127\n",
      "TFT7_Leona_item2 128\n",
      "TFT7_Lillia 129\n",
      "TFT7_Lillia_item0 130\n",
      "TFT7_Lillia_item1 131\n",
      "TFT7_Lillia_item2 132\n",
      "TFT7_Lulu 133\n",
      "TFT7_Lulu_item0 134\n",
      "TFT7_Lulu_item1 135\n",
      "TFT7_Lulu_item2 136\n",
      "TFT7_Nami 137\n",
      "TFT7_Nami_item0 138\n",
      "TFT7_Nami_item1 139\n",
      "TFT7_Nami_item2 140\n",
      "TFT7_Neeko 141\n",
      "TFT7_Neeko_item0 142\n",
      "TFT7_Neeko_item1 143\n",
      "TFT7_Neeko_item2 144\n",
      "TFT7_Nidalee 145\n",
      "TFT7_Nidalee_item0 146\n",
      "TFT7_Nidalee_item1 147\n",
      "TFT7_Nidalee_item2 148\n",
      "TFT7_Nunu 149\n",
      "TFT7_Nunu_item0 150\n",
      "TFT7_Nunu_item1 151\n",
      "TFT7_Nunu_item2 152\n",
      "TFT7_Olaf 153\n",
      "TFT7_Olaf_item0 154\n",
      "TFT7_Olaf_item1 155\n",
      "TFT7_Olaf_item2 156\n",
      "TFT7_Ornn 157\n",
      "TFT7_Ornn_item0 158\n",
      "TFT7_Ornn_item1 159\n",
      "TFT7_Ornn_item2 160\n",
      "TFT7_Pyke 161\n",
      "TFT7_Pyke_item0 162\n",
      "TFT7_Pyke_item1 163\n",
      "TFT7_Pyke_item2 164\n",
      "TFT7_Qiyana 165\n",
      "TFT7_Qiyana_item0 166\n",
      "TFT7_Qiyana_item1 167\n",
      "TFT7_Qiyana_item2 168\n",
      "TFT7_Ryze 169\n",
      "TFT7_Ryze_item0 170\n",
      "TFT7_Ryze_item1 171\n",
      "TFT7_Ryze_item2 172\n",
      "TFT7_Sejuani 173\n",
      "TFT7_Sejuani_item0 174\n",
      "TFT7_Sejuani_item1 175\n",
      "TFT7_Sejuani_item2 176\n",
      "TFT7_Senna 177\n",
      "TFT7_Senna_item0 178\n",
      "TFT7_Senna_item1 179\n",
      "TFT7_Senna_item2 180\n",
      "TFT7_Sett 181\n",
      "TFT7_Sett_item0 182\n",
      "TFT7_Sett_item1 183\n",
      "TFT7_Sett_item2 184\n",
      "TFT7_Shen 185\n",
      "TFT7_Shen_item0 186\n",
      "TFT7_Shen_item1 187\n",
      "TFT7_Shen_item2 188\n",
      "TFT7_Shyvana 189\n",
      "TFT7_Shyvana_item0 190\n",
      "TFT7_Shyvana_item1 191\n",
      "TFT7_Shyvana_item2 192\n",
      "TFT7_Skarner 193\n",
      "TFT7_Skarner_item0 194\n",
      "TFT7_Skarner_item1 195\n",
      "TFT7_Skarner_item2 196\n",
      "TFT7_Sona 197\n",
      "TFT7_Sona_item0 198\n",
      "TFT7_Sona_item1 199\n",
      "TFT7_Sona_item2 200\n",
      "TFT7_Soraka 201\n",
      "TFT7_Soraka_item0 202\n",
      "TFT7_Soraka_item1 203\n",
      "TFT7_Soraka_item2 204\n",
      "TFT7_Swain 205\n",
      "TFT7_Swain_item0 206\n",
      "TFT7_Swain_item1 207\n",
      "TFT7_Swain_item2 208\n",
      "TFT7_Sylas 209\n",
      "TFT7_Sylas_item0 210\n",
      "TFT7_Sylas_item1 211\n",
      "TFT7_Sylas_item2 212\n",
      "TFT7_TahmKench 213\n",
      "TFT7_TahmKench_item0 214\n",
      "TFT7_TahmKench_item1 215\n",
      "TFT7_TahmKench_item2 216\n",
      "TFT7_Talon 217\n",
      "TFT7_Talon_item0 218\n",
      "TFT7_Talon_item1 219\n",
      "TFT7_Talon_item2 220\n",
      "TFT7_Taric 221\n",
      "TFT7_Taric_item0 222\n",
      "TFT7_Taric_item1 223\n",
      "TFT7_Taric_item2 224\n",
      "TFT7_Thresh 225\n",
      "TFT7_Thresh_item0 226\n",
      "TFT7_Thresh_item1 227\n",
      "TFT7_Thresh_item2 228\n",
      "TFT7_TrainerDragon 229\n",
      "TFT7_TrainerDragon_item0 230\n",
      "TFT7_TrainerDragon_item1 231\n",
      "TFT7_TrainerDragon_item2 232\n",
      "TFT7_Tristana 233\n",
      "TFT7_Tristana_item0 234\n",
      "TFT7_Tristana_item1 235\n",
      "TFT7_Tristana_item2 236\n",
      "TFT7_Twitch 237\n",
      "TFT7_Twitch_item0 238\n",
      "TFT7_Twitch_item1 239\n",
      "TFT7_Twitch_item2 240\n",
      "TFT7_Varus 241\n",
      "TFT7_Varus_item0 242\n",
      "TFT7_Varus_item1 243\n",
      "TFT7_Varus_item2 244\n",
      "TFT7_Vladimir 245\n",
      "TFT7_Vladimir_item0 246\n",
      "TFT7_Vladimir_item1 247\n",
      "TFT7_Vladimir_item2 248\n",
      "TFT7_Volibear 249\n",
      "TFT7_Volibear_item0 250\n",
      "TFT7_Volibear_item1 251\n",
      "TFT7_Volibear_item2 252\n",
      "TFT7_Xayah 253\n",
      "TFT7_Xayah_item0 254\n",
      "TFT7_Xayah_item1 255\n",
      "TFT7_Xayah_item2 256\n",
      "TFT7_Yasuo 257\n",
      "TFT7_Yasuo_item0 258\n",
      "TFT7_Yasuo_item1 259\n",
      "TFT7_Yasuo_item2 260\n",
      "TFT7_Yone 261\n",
      "TFT7_Yone_item0 262\n",
      "TFT7_Yone_item1 263\n",
      "TFT7_Yone_item2 264\n",
      "TFT7_Zoe 265\n",
      "TFT7_Zoe_item0 266\n",
      "TFT7_Zoe_item1 267\n",
      "TFT7_Zoe_item2 268\n"
     ]
    }
   ],
   "source": [
    "for i,v in enumerate(header):\n",
    "    print(v, i)"
   ],
   "metadata": {
    "collapsed": false,
    "pycharm": {
     "name": "#%%\n"
    }
   }
  },
  {
   "cell_type": "code",
   "execution_count": 8,
   "outputs": [],
   "source": [
    "df = pandas.read_csv('data/tft_match_history.csv',low_memory=False)\n",
    "top_4 = df[df['placement'] <= 4]\n",
    "last_8 =  df[df['placement'] == 8]"
   ],
   "metadata": {
    "collapsed": false,
    "pycharm": {
     "name": "#%%\n"
    }
   }
  },
  {
   "cell_type": "code",
   "execution_count": 15,
   "outputs": [
    {
     "data": {
      "text/plain": "       TFT7_Aatrox  TFT7_Anivia  TFT7_AoShin    TFT7_Ashe  TFT7_AurelionSol  \\\ncount   290.000000  3859.000000  1371.000000  4419.000000         71.000000   \nmean      1.810345     2.009070     1.649161     1.869880          1.521127   \nstd       0.472675     0.390624     0.480455     0.364874          0.503109   \nmin       1.000000     1.000000     1.000000     1.000000          1.000000   \n25%       2.000000     2.000000     1.000000     2.000000          1.000000   \n50%       2.000000     2.000000     2.000000     2.000000          2.000000   \n75%       2.000000     2.000000     2.000000     2.000000          2.000000   \nmax       3.000000     3.000000     3.000000     3.000000          2.000000   \n\n          TFT7_Bard   TFT7_Braum   TFT7_Corki   TFT7_Diana  TFT7_DragonBlue  \\\ncount  12006.000000  1661.000000  4321.000000  1796.000000      2659.000000   \nmean       1.422872     1.868754     2.038186     2.190980         1.996991   \nstd        0.496894     0.424682     0.303032     0.561283         0.217704   \nmin        1.000000     1.000000     1.000000     1.000000         1.000000   \n25%        1.000000     2.000000     2.000000     2.000000         2.000000   \n50%        1.000000     2.000000     2.000000     2.000000         2.000000   \n75%        2.000000     2.000000     2.000000     3.000000         2.000000   \nmax        3.000000     3.000000     3.000000     3.000000         3.000000   \n\n       ...  TFT7_TrainerDragon  TFT7_Tristana  TFT7_Twitch   TFT7_Varus  \\\ncount  ...         5174.000000    3489.000000  6397.000000  1447.000000   \nmean   ...            3.386162       1.870163     1.818665     2.852799   \nstd    ...            0.803103       0.421669     0.391365     0.395030   \nmin    ...            1.000000       1.000000     1.000000     1.000000   \n25%    ...            3.000000       2.000000     2.000000     3.000000   \n50%    ...            4.000000       2.000000     2.000000     3.000000   \n75%    ...            4.000000       2.000000     2.000000     3.000000   \nmax    ...            4.000000       3.000000     3.000000     3.000000   \n\n       TFT7_Vladimir  TFT7_Volibear   TFT7_Xayah    TFT7_Yasuo    TFT7_Yone  \\\ncount     383.000000     1478.00000  6177.000000  12207.000000  1338.000000   \nmean        2.326371        2.20636     1.990934      1.539117     1.822123   \nstd         0.601490        0.52819     0.291695      0.503069     0.568209   \nmin         1.000000        1.00000     1.000000      1.000000     1.000000   \n25%         2.000000        2.00000     2.000000      1.000000     1.000000   \n50%         2.000000        2.00000     2.000000      2.000000     2.000000   \n75%         3.000000        3.00000     2.000000      2.000000     2.000000   \nmax         3.000000        3.00000     3.000000      3.000000     3.000000   \n\n          TFT7_Zoe  \ncount  2973.000000  \nmean      1.553986  \nstd       0.524175  \nmin       1.000000  \n25%       1.000000  \n50%       2.000000  \n75%       2.000000  \nmax       3.000000  \n\n[8 rows x 59 columns]",
      "text/html": "<div>\n<style scoped>\n    .dataframe tbody tr th:only-of-type {\n        vertical-align: middle;\n    }\n\n    .dataframe tbody tr th {\n        vertical-align: top;\n    }\n\n    .dataframe thead th {\n        text-align: right;\n    }\n</style>\n<table border=\"1\" class=\"dataframe\">\n  <thead>\n    <tr style=\"text-align: right;\">\n      <th></th>\n      <th>TFT7_Aatrox</th>\n      <th>TFT7_Anivia</th>\n      <th>TFT7_AoShin</th>\n      <th>TFT7_Ashe</th>\n      <th>TFT7_AurelionSol</th>\n      <th>TFT7_Bard</th>\n      <th>TFT7_Braum</th>\n      <th>TFT7_Corki</th>\n      <th>TFT7_Diana</th>\n      <th>TFT7_DragonBlue</th>\n      <th>...</th>\n      <th>TFT7_TrainerDragon</th>\n      <th>TFT7_Tristana</th>\n      <th>TFT7_Twitch</th>\n      <th>TFT7_Varus</th>\n      <th>TFT7_Vladimir</th>\n      <th>TFT7_Volibear</th>\n      <th>TFT7_Xayah</th>\n      <th>TFT7_Yasuo</th>\n      <th>TFT7_Yone</th>\n      <th>TFT7_Zoe</th>\n    </tr>\n  </thead>\n  <tbody>\n    <tr>\n      <th>count</th>\n      <td>290.000000</td>\n      <td>3859.000000</td>\n      <td>1371.000000</td>\n      <td>4419.000000</td>\n      <td>71.000000</td>\n      <td>12006.000000</td>\n      <td>1661.000000</td>\n      <td>4321.000000</td>\n      <td>1796.000000</td>\n      <td>2659.000000</td>\n      <td>...</td>\n      <td>5174.000000</td>\n      <td>3489.000000</td>\n      <td>6397.000000</td>\n      <td>1447.000000</td>\n      <td>383.000000</td>\n      <td>1478.00000</td>\n      <td>6177.000000</td>\n      <td>12207.000000</td>\n      <td>1338.000000</td>\n      <td>2973.000000</td>\n    </tr>\n    <tr>\n      <th>mean</th>\n      <td>1.810345</td>\n      <td>2.009070</td>\n      <td>1.649161</td>\n      <td>1.869880</td>\n      <td>1.521127</td>\n      <td>1.422872</td>\n      <td>1.868754</td>\n      <td>2.038186</td>\n      <td>2.190980</td>\n      <td>1.996991</td>\n      <td>...</td>\n      <td>3.386162</td>\n      <td>1.870163</td>\n      <td>1.818665</td>\n      <td>2.852799</td>\n      <td>2.326371</td>\n      <td>2.20636</td>\n      <td>1.990934</td>\n      <td>1.539117</td>\n      <td>1.822123</td>\n      <td>1.553986</td>\n    </tr>\n    <tr>\n      <th>std</th>\n      <td>0.472675</td>\n      <td>0.390624</td>\n      <td>0.480455</td>\n      <td>0.364874</td>\n      <td>0.503109</td>\n      <td>0.496894</td>\n      <td>0.424682</td>\n      <td>0.303032</td>\n      <td>0.561283</td>\n      <td>0.217704</td>\n      <td>...</td>\n      <td>0.803103</td>\n      <td>0.421669</td>\n      <td>0.391365</td>\n      <td>0.395030</td>\n      <td>0.601490</td>\n      <td>0.52819</td>\n      <td>0.291695</td>\n      <td>0.503069</td>\n      <td>0.568209</td>\n      <td>0.524175</td>\n    </tr>\n    <tr>\n      <th>min</th>\n      <td>1.000000</td>\n      <td>1.000000</td>\n      <td>1.000000</td>\n      <td>1.000000</td>\n      <td>1.000000</td>\n      <td>1.000000</td>\n      <td>1.000000</td>\n      <td>1.000000</td>\n      <td>1.000000</td>\n      <td>1.000000</td>\n      <td>...</td>\n      <td>1.000000</td>\n      <td>1.000000</td>\n      <td>1.000000</td>\n      <td>1.000000</td>\n      <td>1.000000</td>\n      <td>1.00000</td>\n      <td>1.000000</td>\n      <td>1.000000</td>\n      <td>1.000000</td>\n      <td>1.000000</td>\n    </tr>\n    <tr>\n      <th>25%</th>\n      <td>2.000000</td>\n      <td>2.000000</td>\n      <td>1.000000</td>\n      <td>2.000000</td>\n      <td>1.000000</td>\n      <td>1.000000</td>\n      <td>2.000000</td>\n      <td>2.000000</td>\n      <td>2.000000</td>\n      <td>2.000000</td>\n      <td>...</td>\n      <td>3.000000</td>\n      <td>2.000000</td>\n      <td>2.000000</td>\n      <td>3.000000</td>\n      <td>2.000000</td>\n      <td>2.00000</td>\n      <td>2.000000</td>\n      <td>1.000000</td>\n      <td>1.000000</td>\n      <td>1.000000</td>\n    </tr>\n    <tr>\n      <th>50%</th>\n      <td>2.000000</td>\n      <td>2.000000</td>\n      <td>2.000000</td>\n      <td>2.000000</td>\n      <td>2.000000</td>\n      <td>1.000000</td>\n      <td>2.000000</td>\n      <td>2.000000</td>\n      <td>2.000000</td>\n      <td>2.000000</td>\n      <td>...</td>\n      <td>4.000000</td>\n      <td>2.000000</td>\n      <td>2.000000</td>\n      <td>3.000000</td>\n      <td>2.000000</td>\n      <td>2.00000</td>\n      <td>2.000000</td>\n      <td>2.000000</td>\n      <td>2.000000</td>\n      <td>2.000000</td>\n    </tr>\n    <tr>\n      <th>75%</th>\n      <td>2.000000</td>\n      <td>2.000000</td>\n      <td>2.000000</td>\n      <td>2.000000</td>\n      <td>2.000000</td>\n      <td>2.000000</td>\n      <td>2.000000</td>\n      <td>2.000000</td>\n      <td>3.000000</td>\n      <td>2.000000</td>\n      <td>...</td>\n      <td>4.000000</td>\n      <td>2.000000</td>\n      <td>2.000000</td>\n      <td>3.000000</td>\n      <td>3.000000</td>\n      <td>3.00000</td>\n      <td>2.000000</td>\n      <td>2.000000</td>\n      <td>2.000000</td>\n      <td>2.000000</td>\n    </tr>\n    <tr>\n      <th>max</th>\n      <td>3.000000</td>\n      <td>3.000000</td>\n      <td>3.000000</td>\n      <td>3.000000</td>\n      <td>2.000000</td>\n      <td>3.000000</td>\n      <td>3.000000</td>\n      <td>3.000000</td>\n      <td>3.000000</td>\n      <td>3.000000</td>\n      <td>...</td>\n      <td>4.000000</td>\n      <td>3.000000</td>\n      <td>3.000000</td>\n      <td>3.000000</td>\n      <td>3.000000</td>\n      <td>3.00000</td>\n      <td>3.000000</td>\n      <td>3.000000</td>\n      <td>3.000000</td>\n      <td>3.000000</td>\n    </tr>\n  </tbody>\n</table>\n<p>8 rows × 59 columns</p>\n</div>"
     },
     "execution_count": 15,
     "metadata": {},
     "output_type": "execute_result"
    }
   ],
   "source": [
    "top_4_champs_df = top_4[top_4.columns[top_4.columns.isin(champ_indices.keys())]]\n",
    "last_8_champs_df = last_8[last_8.columns[last_8.columns.isin(champ_indices.keys())]]\n",
    "top_4_champs_df.describe()"
   ],
   "metadata": {
    "collapsed": false,
    "pycharm": {
     "name": "#%%\n"
    }
   }
  },
  {
   "cell_type": "code",
   "execution_count": 16,
   "outputs": [
    {
     "name": "stderr",
     "output_type": "stream",
     "text": [
      "C:\\Users\\domin\\AppData\\Local\\Temp\\ipykernel_16608\\878303366.py:3: FutureWarning: In a future version of pandas all arguments of Series.sort_values will be keyword-only.\n",
      "  champ_count = pandas.DataFrame(top_4_bool_champs_df.sum().sort_values(0,ascending=False))\n"
     ]
    },
    {
     "data": {
      "text/plain": "                           0\nTFT7_Ornn           0.484341\nTFT7_Yasuo          0.410181\nTFT7_Bard           0.403427\nTFT7_Talon          0.350034\nTFT7_Shen           0.343784\nTFT7_Neeko          0.331620\nTFT7_Lulu           0.303898\nTFT7_Qiyana         0.262735\nTFT7_Hecarim        0.262164\nTFT7_Sylas          0.256317\nTFT7_DragonPurple   0.219657\nTFT7_Twitch         0.214953\nTFT7_DragonGreen    0.207661\nTFT7_Xayah          0.207560\nTFT7_Soraka         0.206015\nTFT7_Gnar           0.198723\nTFT7_Pyke           0.186290\nTFT7_Sona           0.183065\nTFT7_Sejuani        0.178125\nTFT7_TrainerDragon  0.173858\nTFT7_Ashe           0.148488\nTFT7_Corki          0.145195\nTFT7_DragonGold     0.142910\nTFT7_Anivia         0.129671\nTFT7_Tristana       0.117238\nTFT7_Swain          0.112466\nTFT7_Thresh         0.106653\nTFT7_Karma          0.104973\nTFT7_LeeSin         0.101781\nTFT7_Zoe            0.099899\nTFT7_Illaoi         0.095800\nTFT7_Nunu           0.090692\nTFT7_DragonBlue     0.089348\nTFT7_Elise          0.077218\nTFT7_Heimerdinger   0.068750\nTFT7_Sett           0.065894\nTFT7_Shyvana        0.061223\nTFT7_Diana          0.060349\nTFT7_Nami           0.059341\nTFT7_Olaf           0.058602\nTFT7_Braum          0.055813\nTFT7_Volibear       0.049664\nTFT7_Ryze           0.048757\nTFT7_Varus          0.048622\nTFT7_AoShin         0.046069\nTFT7_Yone           0.044960\nTFT7_Jinx           0.043448\nTFT7_Leona          0.042372\nTFT7_Nidalee        0.041902\nTFT7_Kayn           0.034308\nTFT7_Ezreal         0.033434\nTFT7_Taric          0.029704\nTFT7_Lillia         0.027688\nTFT7_TahmKench      0.019288\nTFT7_Skarner        0.016667\nTFT7_Vladimir       0.012870\nTFT7_Aatrox         0.009745\nTFT7_Senna          0.002688\nTFT7_AurelionSol    0.002386",
      "text/html": "<div>\n<style scoped>\n    .dataframe tbody tr th:only-of-type {\n        vertical-align: middle;\n    }\n\n    .dataframe tbody tr th {\n        vertical-align: top;\n    }\n\n    .dataframe thead th {\n        text-align: right;\n    }\n</style>\n<table border=\"1\" class=\"dataframe\">\n  <thead>\n    <tr style=\"text-align: right;\">\n      <th></th>\n      <th>0</th>\n    </tr>\n  </thead>\n  <tbody>\n    <tr>\n      <th>TFT7_Ornn</th>\n      <td>0.484341</td>\n    </tr>\n    <tr>\n      <th>TFT7_Yasuo</th>\n      <td>0.410181</td>\n    </tr>\n    <tr>\n      <th>TFT7_Bard</th>\n      <td>0.403427</td>\n    </tr>\n    <tr>\n      <th>TFT7_Talon</th>\n      <td>0.350034</td>\n    </tr>\n    <tr>\n      <th>TFT7_Shen</th>\n      <td>0.343784</td>\n    </tr>\n    <tr>\n      <th>TFT7_Neeko</th>\n      <td>0.331620</td>\n    </tr>\n    <tr>\n      <th>TFT7_Lulu</th>\n      <td>0.303898</td>\n    </tr>\n    <tr>\n      <th>TFT7_Qiyana</th>\n      <td>0.262735</td>\n    </tr>\n    <tr>\n      <th>TFT7_Hecarim</th>\n      <td>0.262164</td>\n    </tr>\n    <tr>\n      <th>TFT7_Sylas</th>\n      <td>0.256317</td>\n    </tr>\n    <tr>\n      <th>TFT7_DragonPurple</th>\n      <td>0.219657</td>\n    </tr>\n    <tr>\n      <th>TFT7_Twitch</th>\n      <td>0.214953</td>\n    </tr>\n    <tr>\n      <th>TFT7_DragonGreen</th>\n      <td>0.207661</td>\n    </tr>\n    <tr>\n      <th>TFT7_Xayah</th>\n      <td>0.207560</td>\n    </tr>\n    <tr>\n      <th>TFT7_Soraka</th>\n      <td>0.206015</td>\n    </tr>\n    <tr>\n      <th>TFT7_Gnar</th>\n      <td>0.198723</td>\n    </tr>\n    <tr>\n      <th>TFT7_Pyke</th>\n      <td>0.186290</td>\n    </tr>\n    <tr>\n      <th>TFT7_Sona</th>\n      <td>0.183065</td>\n    </tr>\n    <tr>\n      <th>TFT7_Sejuani</th>\n      <td>0.178125</td>\n    </tr>\n    <tr>\n      <th>TFT7_TrainerDragon</th>\n      <td>0.173858</td>\n    </tr>\n    <tr>\n      <th>TFT7_Ashe</th>\n      <td>0.148488</td>\n    </tr>\n    <tr>\n      <th>TFT7_Corki</th>\n      <td>0.145195</td>\n    </tr>\n    <tr>\n      <th>TFT7_DragonGold</th>\n      <td>0.142910</td>\n    </tr>\n    <tr>\n      <th>TFT7_Anivia</th>\n      <td>0.129671</td>\n    </tr>\n    <tr>\n      <th>TFT7_Tristana</th>\n      <td>0.117238</td>\n    </tr>\n    <tr>\n      <th>TFT7_Swain</th>\n      <td>0.112466</td>\n    </tr>\n    <tr>\n      <th>TFT7_Thresh</th>\n      <td>0.106653</td>\n    </tr>\n    <tr>\n      <th>TFT7_Karma</th>\n      <td>0.104973</td>\n    </tr>\n    <tr>\n      <th>TFT7_LeeSin</th>\n      <td>0.101781</td>\n    </tr>\n    <tr>\n      <th>TFT7_Zoe</th>\n      <td>0.099899</td>\n    </tr>\n    <tr>\n      <th>TFT7_Illaoi</th>\n      <td>0.095800</td>\n    </tr>\n    <tr>\n      <th>TFT7_Nunu</th>\n      <td>0.090692</td>\n    </tr>\n    <tr>\n      <th>TFT7_DragonBlue</th>\n      <td>0.089348</td>\n    </tr>\n    <tr>\n      <th>TFT7_Elise</th>\n      <td>0.077218</td>\n    </tr>\n    <tr>\n      <th>TFT7_Heimerdinger</th>\n      <td>0.068750</td>\n    </tr>\n    <tr>\n      <th>TFT7_Sett</th>\n      <td>0.065894</td>\n    </tr>\n    <tr>\n      <th>TFT7_Shyvana</th>\n      <td>0.061223</td>\n    </tr>\n    <tr>\n      <th>TFT7_Diana</th>\n      <td>0.060349</td>\n    </tr>\n    <tr>\n      <th>TFT7_Nami</th>\n      <td>0.059341</td>\n    </tr>\n    <tr>\n      <th>TFT7_Olaf</th>\n      <td>0.058602</td>\n    </tr>\n    <tr>\n      <th>TFT7_Braum</th>\n      <td>0.055813</td>\n    </tr>\n    <tr>\n      <th>TFT7_Volibear</th>\n      <td>0.049664</td>\n    </tr>\n    <tr>\n      <th>TFT7_Ryze</th>\n      <td>0.048757</td>\n    </tr>\n    <tr>\n      <th>TFT7_Varus</th>\n      <td>0.048622</td>\n    </tr>\n    <tr>\n      <th>TFT7_AoShin</th>\n      <td>0.046069</td>\n    </tr>\n    <tr>\n      <th>TFT7_Yone</th>\n      <td>0.044960</td>\n    </tr>\n    <tr>\n      <th>TFT7_Jinx</th>\n      <td>0.043448</td>\n    </tr>\n    <tr>\n      <th>TFT7_Leona</th>\n      <td>0.042372</td>\n    </tr>\n    <tr>\n      <th>TFT7_Nidalee</th>\n      <td>0.041902</td>\n    </tr>\n    <tr>\n      <th>TFT7_Kayn</th>\n      <td>0.034308</td>\n    </tr>\n    <tr>\n      <th>TFT7_Ezreal</th>\n      <td>0.033434</td>\n    </tr>\n    <tr>\n      <th>TFT7_Taric</th>\n      <td>0.029704</td>\n    </tr>\n    <tr>\n      <th>TFT7_Lillia</th>\n      <td>0.027688</td>\n    </tr>\n    <tr>\n      <th>TFT7_TahmKench</th>\n      <td>0.019288</td>\n    </tr>\n    <tr>\n      <th>TFT7_Skarner</th>\n      <td>0.016667</td>\n    </tr>\n    <tr>\n      <th>TFT7_Vladimir</th>\n      <td>0.012870</td>\n    </tr>\n    <tr>\n      <th>TFT7_Aatrox</th>\n      <td>0.009745</td>\n    </tr>\n    <tr>\n      <th>TFT7_Senna</th>\n      <td>0.002688</td>\n    </tr>\n    <tr>\n      <th>TFT7_AurelionSol</th>\n      <td>0.002386</td>\n    </tr>\n  </tbody>\n</table>\n</div>"
     },
     "execution_count": 16,
     "metadata": {},
     "output_type": "execute_result"
    }
   ],
   "source": [
    "top_4_bool_champs_df = top_4_champs_df.notnull().astype('int')\n",
    "\n",
    "champ_count = pandas.DataFrame(top_4_bool_champs_df.sum().sort_values(0,ascending=False))\n",
    "champ_count / len(top_4_bool_champs_df)"
   ],
   "metadata": {
    "collapsed": false,
    "pycharm": {
     "name": "#%%\n"
    }
   }
  },
  {
   "cell_type": "code",
   "execution_count": 18,
   "outputs": [
    {
     "name": "stderr",
     "output_type": "stream",
     "text": [
      "C:\\Users\\domin\\AppData\\Local\\Temp\\ipykernel_16608\\3048633967.py:3: FutureWarning: In a future version of pandas all arguments of Series.sort_values will be keyword-only.\n",
      "  last_8_champ_count = pandas.DataFrame(last_8_bool_champs_df.sum().sort_values(0,ascending=False))\n"
     ]
    },
    {
     "data": {
      "text/plain": "                           0\nTFT7_Ornn           0.351075\nTFT7_Shen           0.324059\nTFT7_Lulu           0.281317\nTFT7_Talon          0.260753\nTFT7_Neeko          0.248656\nTFT7_Hecarim        0.240323\nTFT7_Sylas          0.234274\nTFT7_DragonGold     0.203898\nTFT7_Qiyana         0.203495\nTFT7_Xayah          0.203226\nTFT7_Twitch         0.194355\nTFT7_TrainerDragon  0.190188\nTFT7_Sejuani        0.184409\nTFT7_Sona           0.174059\nTFT7_DragonGreen    0.168817\nTFT7_Gnar           0.166532\nTFT7_DragonPurple   0.164651\nTFT7_Ashe           0.162634\nTFT7_Corki          0.156586\nTFT7_Yasuo          0.155376\nTFT7_Tristana       0.137903\nTFT7_Bard           0.130376\nTFT7_Anivia         0.129973\nTFT7_Swain          0.124731\nTFT7_Nunu           0.122715\nTFT7_Karma          0.117204\nTFT7_LeeSin         0.112903\nTFT7_Illaoi         0.110618\nTFT7_Thresh         0.105645\nTFT7_DragonBlue     0.100269\nTFT7_Volibear       0.091667\nTFT7_Heimerdinger   0.086425\nTFT7_Braum          0.084946\nTFT7_Leona          0.083199\nTFT7_Sett           0.078898\nTFT7_Nami           0.078226\nTFT7_Soraka         0.074194\nTFT7_Ryze           0.072581\nTFT7_Elise          0.069624\nTFT7_Jinx           0.068817\nTFT7_Kayn           0.065860\nTFT7_Pyke           0.064651\nTFT7_Zoe            0.060349\nTFT7_Yone           0.056317\nTFT7_Diana          0.055376\nTFT7_Lillia         0.054435\nTFT7_Olaf           0.053226\nTFT7_Taric          0.052823\nTFT7_Nidalee        0.042339\nTFT7_Skarner        0.041532\nTFT7_Ezreal         0.036828\nTFT7_Varus          0.036828\nTFT7_TahmKench      0.034409\nTFT7_Vladimir       0.031586\nTFT7_Aatrox         0.029839\nTFT7_Shyvana        0.028091\nTFT7_AoShin         0.025672\nTFT7_Senna          0.014113\nTFT7_AurelionSol    0.004435",
      "text/html": "<div>\n<style scoped>\n    .dataframe tbody tr th:only-of-type {\n        vertical-align: middle;\n    }\n\n    .dataframe tbody tr th {\n        vertical-align: top;\n    }\n\n    .dataframe thead th {\n        text-align: right;\n    }\n</style>\n<table border=\"1\" class=\"dataframe\">\n  <thead>\n    <tr style=\"text-align: right;\">\n      <th></th>\n      <th>0</th>\n    </tr>\n  </thead>\n  <tbody>\n    <tr>\n      <th>TFT7_Ornn</th>\n      <td>0.351075</td>\n    </tr>\n    <tr>\n      <th>TFT7_Shen</th>\n      <td>0.324059</td>\n    </tr>\n    <tr>\n      <th>TFT7_Lulu</th>\n      <td>0.281317</td>\n    </tr>\n    <tr>\n      <th>TFT7_Talon</th>\n      <td>0.260753</td>\n    </tr>\n    <tr>\n      <th>TFT7_Neeko</th>\n      <td>0.248656</td>\n    </tr>\n    <tr>\n      <th>TFT7_Hecarim</th>\n      <td>0.240323</td>\n    </tr>\n    <tr>\n      <th>TFT7_Sylas</th>\n      <td>0.234274</td>\n    </tr>\n    <tr>\n      <th>TFT7_DragonGold</th>\n      <td>0.203898</td>\n    </tr>\n    <tr>\n      <th>TFT7_Qiyana</th>\n      <td>0.203495</td>\n    </tr>\n    <tr>\n      <th>TFT7_Xayah</th>\n      <td>0.203226</td>\n    </tr>\n    <tr>\n      <th>TFT7_Twitch</th>\n      <td>0.194355</td>\n    </tr>\n    <tr>\n      <th>TFT7_TrainerDragon</th>\n      <td>0.190188</td>\n    </tr>\n    <tr>\n      <th>TFT7_Sejuani</th>\n      <td>0.184409</td>\n    </tr>\n    <tr>\n      <th>TFT7_Sona</th>\n      <td>0.174059</td>\n    </tr>\n    <tr>\n      <th>TFT7_DragonGreen</th>\n      <td>0.168817</td>\n    </tr>\n    <tr>\n      <th>TFT7_Gnar</th>\n      <td>0.166532</td>\n    </tr>\n    <tr>\n      <th>TFT7_DragonPurple</th>\n      <td>0.164651</td>\n    </tr>\n    <tr>\n      <th>TFT7_Ashe</th>\n      <td>0.162634</td>\n    </tr>\n    <tr>\n      <th>TFT7_Corki</th>\n      <td>0.156586</td>\n    </tr>\n    <tr>\n      <th>TFT7_Yasuo</th>\n      <td>0.155376</td>\n    </tr>\n    <tr>\n      <th>TFT7_Tristana</th>\n      <td>0.137903</td>\n    </tr>\n    <tr>\n      <th>TFT7_Bard</th>\n      <td>0.130376</td>\n    </tr>\n    <tr>\n      <th>TFT7_Anivia</th>\n      <td>0.129973</td>\n    </tr>\n    <tr>\n      <th>TFT7_Swain</th>\n      <td>0.124731</td>\n    </tr>\n    <tr>\n      <th>TFT7_Nunu</th>\n      <td>0.122715</td>\n    </tr>\n    <tr>\n      <th>TFT7_Karma</th>\n      <td>0.117204</td>\n    </tr>\n    <tr>\n      <th>TFT7_LeeSin</th>\n      <td>0.112903</td>\n    </tr>\n    <tr>\n      <th>TFT7_Illaoi</th>\n      <td>0.110618</td>\n    </tr>\n    <tr>\n      <th>TFT7_Thresh</th>\n      <td>0.105645</td>\n    </tr>\n    <tr>\n      <th>TFT7_DragonBlue</th>\n      <td>0.100269</td>\n    </tr>\n    <tr>\n      <th>TFT7_Volibear</th>\n      <td>0.091667</td>\n    </tr>\n    <tr>\n      <th>TFT7_Heimerdinger</th>\n      <td>0.086425</td>\n    </tr>\n    <tr>\n      <th>TFT7_Braum</th>\n      <td>0.084946</td>\n    </tr>\n    <tr>\n      <th>TFT7_Leona</th>\n      <td>0.083199</td>\n    </tr>\n    <tr>\n      <th>TFT7_Sett</th>\n      <td>0.078898</td>\n    </tr>\n    <tr>\n      <th>TFT7_Nami</th>\n      <td>0.078226</td>\n    </tr>\n    <tr>\n      <th>TFT7_Soraka</th>\n      <td>0.074194</td>\n    </tr>\n    <tr>\n      <th>TFT7_Ryze</th>\n      <td>0.072581</td>\n    </tr>\n    <tr>\n      <th>TFT7_Elise</th>\n      <td>0.069624</td>\n    </tr>\n    <tr>\n      <th>TFT7_Jinx</th>\n      <td>0.068817</td>\n    </tr>\n    <tr>\n      <th>TFT7_Kayn</th>\n      <td>0.065860</td>\n    </tr>\n    <tr>\n      <th>TFT7_Pyke</th>\n      <td>0.064651</td>\n    </tr>\n    <tr>\n      <th>TFT7_Zoe</th>\n      <td>0.060349</td>\n    </tr>\n    <tr>\n      <th>TFT7_Yone</th>\n      <td>0.056317</td>\n    </tr>\n    <tr>\n      <th>TFT7_Diana</th>\n      <td>0.055376</td>\n    </tr>\n    <tr>\n      <th>TFT7_Lillia</th>\n      <td>0.054435</td>\n    </tr>\n    <tr>\n      <th>TFT7_Olaf</th>\n      <td>0.053226</td>\n    </tr>\n    <tr>\n      <th>TFT7_Taric</th>\n      <td>0.052823</td>\n    </tr>\n    <tr>\n      <th>TFT7_Nidalee</th>\n      <td>0.042339</td>\n    </tr>\n    <tr>\n      <th>TFT7_Skarner</th>\n      <td>0.041532</td>\n    </tr>\n    <tr>\n      <th>TFT7_Ezreal</th>\n      <td>0.036828</td>\n    </tr>\n    <tr>\n      <th>TFT7_Varus</th>\n      <td>0.036828</td>\n    </tr>\n    <tr>\n      <th>TFT7_TahmKench</th>\n      <td>0.034409</td>\n    </tr>\n    <tr>\n      <th>TFT7_Vladimir</th>\n      <td>0.031586</td>\n    </tr>\n    <tr>\n      <th>TFT7_Aatrox</th>\n      <td>0.029839</td>\n    </tr>\n    <tr>\n      <th>TFT7_Shyvana</th>\n      <td>0.028091</td>\n    </tr>\n    <tr>\n      <th>TFT7_AoShin</th>\n      <td>0.025672</td>\n    </tr>\n    <tr>\n      <th>TFT7_Senna</th>\n      <td>0.014113</td>\n    </tr>\n    <tr>\n      <th>TFT7_AurelionSol</th>\n      <td>0.004435</td>\n    </tr>\n  </tbody>\n</table>\n</div>"
     },
     "execution_count": 18,
     "metadata": {},
     "output_type": "execute_result"
    }
   ],
   "source": [
    "last_8_bool_champs_df = last_8_champs_df.notnull().astype('int')\n",
    "\n",
    "last_8_champ_count = pandas.DataFrame(last_8_bool_champs_df.sum().sort_values(0,ascending=False))\n",
    "last_8_champ_count / len(last_8_bool_champs_df)"
   ],
   "metadata": {
    "collapsed": false,
    "pycharm": {
     "name": "#%%\n"
    }
   }
  },
  {
   "cell_type": "code",
   "execution_count": 10,
   "outputs": [
    {
     "name": "stderr",
     "output_type": "stream",
     "text": [
      "C:\\Users\\domin\\AppData\\Local\\Temp\\ipykernel_16608\\3348497396.py:1: FutureWarning: The series.append method is deprecated and will be removed from pandas in a future version. Use pandas.concat instead.\n",
      "  top_4_augment_df = pandas.DataFrame(top_4['augment0'].append(top_4['augment1']).append(top_4['augment2']),columns=['augment'])\n",
      "C:\\Users\\domin\\AppData\\Local\\Temp\\ipykernel_16608\\3348497396.py:1: FutureWarning: The series.append method is deprecated and will be removed from pandas in a future version. Use pandas.concat instead.\n",
      "  top_4_augment_df = pandas.DataFrame(top_4['augment0'].append(top_4['augment1']).append(top_4['augment2']),columns=['augment'])\n",
      "C:\\Users\\domin\\AppData\\Local\\Temp\\ipykernel_16608\\3348497396.py:2: FutureWarning: The series.append method is deprecated and will be removed from pandas in a future version. Use pandas.concat instead.\n",
      "  last_8_augment_df = pandas.DataFrame(last_8['augment0'].append(last_8['augment1']).append(last_8['augment2']),columns=['augment'])\n",
      "C:\\Users\\domin\\AppData\\Local\\Temp\\ipykernel_16608\\3348497396.py:2: FutureWarning: The series.append method is deprecated and will be removed from pandas in a future version. Use pandas.concat instead.\n",
      "  last_8_augment_df = pandas.DataFrame(last_8['augment0'].append(last_8['augment1']).append(last_8['augment2']),columns=['augment'])\n"
     ]
    },
    {
     "data": {
      "text/plain": "                                   augment\n0                TFT6_Augment_JeweledLotus\n2                 TFT7_Augment_MikaelsGift\n3          TFT6_Augment_CelestialBlessing2\n4      TFT7_Augment_BruiserTitanicStrength\n8               TFT6_Augment_ForceOfNature\n...                                    ...\n59510           TFT6_Augment_RadiantRelics\n59512     TFT6_Augment_CyberneticImplants3\n59515              TFT6_Augment_Diversify3\n59517            TFT6_Augment_TheGoldenEgg\n59518           TFT6_Augment_ForceOfNature\n\n[89280 rows x 1 columns]",
      "text/html": "<div>\n<style scoped>\n    .dataframe tbody tr th:only-of-type {\n        vertical-align: middle;\n    }\n\n    .dataframe tbody tr th {\n        vertical-align: top;\n    }\n\n    .dataframe thead th {\n        text-align: right;\n    }\n</style>\n<table border=\"1\" class=\"dataframe\">\n  <thead>\n    <tr style=\"text-align: right;\">\n      <th></th>\n      <th>augment</th>\n    </tr>\n  </thead>\n  <tbody>\n    <tr>\n      <th>0</th>\n      <td>TFT6_Augment_JeweledLotus</td>\n    </tr>\n    <tr>\n      <th>2</th>\n      <td>TFT7_Augment_MikaelsGift</td>\n    </tr>\n    <tr>\n      <th>3</th>\n      <td>TFT6_Augment_CelestialBlessing2</td>\n    </tr>\n    <tr>\n      <th>4</th>\n      <td>TFT7_Augment_BruiserTitanicStrength</td>\n    </tr>\n    <tr>\n      <th>8</th>\n      <td>TFT6_Augment_ForceOfNature</td>\n    </tr>\n    <tr>\n      <th>...</th>\n      <td>...</td>\n    </tr>\n    <tr>\n      <th>59510</th>\n      <td>TFT6_Augment_RadiantRelics</td>\n    </tr>\n    <tr>\n      <th>59512</th>\n      <td>TFT6_Augment_CyberneticImplants3</td>\n    </tr>\n    <tr>\n      <th>59515</th>\n      <td>TFT6_Augment_Diversify3</td>\n    </tr>\n    <tr>\n      <th>59517</th>\n      <td>TFT6_Augment_TheGoldenEgg</td>\n    </tr>\n    <tr>\n      <th>59518</th>\n      <td>TFT6_Augment_ForceOfNature</td>\n    </tr>\n  </tbody>\n</table>\n<p>89280 rows × 1 columns</p>\n</div>"
     },
     "execution_count": 10,
     "metadata": {},
     "output_type": "execute_result"
    }
   ],
   "source": [
    "top_4_augment_df = pandas.DataFrame(top_4['augment0'].append(top_4['augment1']).append(top_4['augment2']),columns=['augment'])\n",
    "last_8_augment_df = pandas.DataFrame(last_8['augment0'].append(last_8['augment1']).append(last_8['augment2']),columns=['augment'])\n",
    "top_4_augment_df"
   ],
   "metadata": {
    "collapsed": false,
    "pycharm": {
     "name": "#%%\n"
    }
   }
  },
  {
   "cell_type": "code",
   "execution_count": 14,
   "outputs": [
    {
     "data": {
      "text/plain": "    placement        match_id                         augment0  \\\n5           8  NA1_4362523505    TFT6_Augment_CyberneticShell2   \n10          8  NA1_4366330000  TFT6_Augment_CelestialBlessing3   \n21          8  NA1_4366385242        TFT7_Augment_UrfsGrabBag1   \n27          8  NA1_4363640937        TFT7_Augment_EvokerEmblem   \n35          8  NA1_4362663270    TFT6_Augment_CyberneticShell1   \n\n                          augment1                       augment2  \\\n5        TFT7_Augment_UrfsGrabBag2     TFT6_Augment_PortableForge   \n10        TFT7_Augment_CursedCrown        TFT7_Augment_BigFriend2   \n21         TFT6_Augment_SalvageBin  TFT6_Augment_ThrillOfTheHunt2   \n27   TFT6_Augment_ThrillOfTheHunt1        TFT7_Augment_MageEmblem   \n35  TFT6_Augment_CyberneticUplink2  TFT6_Augment_ComponentGrabBag   \n\n    Set7_Assassin  Set7_Astral  Set7_Bard  Set7_Bruiser  Set7_Cannoneer  ...  \\\n5             0.0          1.0        NaN           2.0             NaN  ...   \n10            NaN          0.0        NaN           3.0             NaN  ...   \n21            NaN          NaN        NaN           NaN             1.0  ...   \n27            NaN          NaN        1.0           0.0             NaN  ...   \n35            1.0          NaN        1.0           1.0             NaN  ...   \n\n    TFT7_Yasuo_item1  TFT7_Yasuo_item2  TFT7_Yone  TFT7_Yone_item0  \\\n5                NaN               NaN        NaN              NaN   \n10               NaN               NaN        NaN              NaN   \n21               NaN               NaN        NaN              NaN   \n27      WarmogsArmor    MageEmblemItem        NaN              NaN   \n35               NaN               NaN        NaN              NaN   \n\n    TFT7_Yone_item1  TFT7_Yone_item2  TFT7_Zoe  TFT7_Zoe_item0  \\\n5               NaN              NaN       NaN             NaN   \n10              NaN              NaN       NaN             NaN   \n21              NaN              NaN       NaN             NaN   \n27              NaN              NaN       NaN             NaN   \n35              NaN              NaN       NaN             NaN   \n\n    TFT7_Zoe_item1  TFT7_Zoe_item2  \n5              NaN             NaN  \n10             NaN             NaN  \n21             NaN             NaN  \n27             NaN             NaN  \n35             NaN             NaN  \n\n[5 rows x 269 columns]",
      "text/html": "<div>\n<style scoped>\n    .dataframe tbody tr th:only-of-type {\n        vertical-align: middle;\n    }\n\n    .dataframe tbody tr th {\n        vertical-align: top;\n    }\n\n    .dataframe thead th {\n        text-align: right;\n    }\n</style>\n<table border=\"1\" class=\"dataframe\">\n  <thead>\n    <tr style=\"text-align: right;\">\n      <th></th>\n      <th>placement</th>\n      <th>match_id</th>\n      <th>augment0</th>\n      <th>augment1</th>\n      <th>augment2</th>\n      <th>Set7_Assassin</th>\n      <th>Set7_Astral</th>\n      <th>Set7_Bard</th>\n      <th>Set7_Bruiser</th>\n      <th>Set7_Cannoneer</th>\n      <th>...</th>\n      <th>TFT7_Yasuo_item1</th>\n      <th>TFT7_Yasuo_item2</th>\n      <th>TFT7_Yone</th>\n      <th>TFT7_Yone_item0</th>\n      <th>TFT7_Yone_item1</th>\n      <th>TFT7_Yone_item2</th>\n      <th>TFT7_Zoe</th>\n      <th>TFT7_Zoe_item0</th>\n      <th>TFT7_Zoe_item1</th>\n      <th>TFT7_Zoe_item2</th>\n    </tr>\n  </thead>\n  <tbody>\n    <tr>\n      <th>5</th>\n      <td>8</td>\n      <td>NA1_4362523505</td>\n      <td>TFT6_Augment_CyberneticShell2</td>\n      <td>TFT7_Augment_UrfsGrabBag2</td>\n      <td>TFT6_Augment_PortableForge</td>\n      <td>0.0</td>\n      <td>1.0</td>\n      <td>NaN</td>\n      <td>2.0</td>\n      <td>NaN</td>\n      <td>...</td>\n      <td>NaN</td>\n      <td>NaN</td>\n      <td>NaN</td>\n      <td>NaN</td>\n      <td>NaN</td>\n      <td>NaN</td>\n      <td>NaN</td>\n      <td>NaN</td>\n      <td>NaN</td>\n      <td>NaN</td>\n    </tr>\n    <tr>\n      <th>10</th>\n      <td>8</td>\n      <td>NA1_4366330000</td>\n      <td>TFT6_Augment_CelestialBlessing3</td>\n      <td>TFT7_Augment_CursedCrown</td>\n      <td>TFT7_Augment_BigFriend2</td>\n      <td>NaN</td>\n      <td>0.0</td>\n      <td>NaN</td>\n      <td>3.0</td>\n      <td>NaN</td>\n      <td>...</td>\n      <td>NaN</td>\n      <td>NaN</td>\n      <td>NaN</td>\n      <td>NaN</td>\n      <td>NaN</td>\n      <td>NaN</td>\n      <td>NaN</td>\n      <td>NaN</td>\n      <td>NaN</td>\n      <td>NaN</td>\n    </tr>\n    <tr>\n      <th>21</th>\n      <td>8</td>\n      <td>NA1_4366385242</td>\n      <td>TFT7_Augment_UrfsGrabBag1</td>\n      <td>TFT6_Augment_SalvageBin</td>\n      <td>TFT6_Augment_ThrillOfTheHunt2</td>\n      <td>NaN</td>\n      <td>NaN</td>\n      <td>NaN</td>\n      <td>NaN</td>\n      <td>1.0</td>\n      <td>...</td>\n      <td>NaN</td>\n      <td>NaN</td>\n      <td>NaN</td>\n      <td>NaN</td>\n      <td>NaN</td>\n      <td>NaN</td>\n      <td>NaN</td>\n      <td>NaN</td>\n      <td>NaN</td>\n      <td>NaN</td>\n    </tr>\n    <tr>\n      <th>27</th>\n      <td>8</td>\n      <td>NA1_4363640937</td>\n      <td>TFT7_Augment_EvokerEmblem</td>\n      <td>TFT6_Augment_ThrillOfTheHunt1</td>\n      <td>TFT7_Augment_MageEmblem</td>\n      <td>NaN</td>\n      <td>NaN</td>\n      <td>1.0</td>\n      <td>0.0</td>\n      <td>NaN</td>\n      <td>...</td>\n      <td>WarmogsArmor</td>\n      <td>MageEmblemItem</td>\n      <td>NaN</td>\n      <td>NaN</td>\n      <td>NaN</td>\n      <td>NaN</td>\n      <td>NaN</td>\n      <td>NaN</td>\n      <td>NaN</td>\n      <td>NaN</td>\n    </tr>\n    <tr>\n      <th>35</th>\n      <td>8</td>\n      <td>NA1_4362663270</td>\n      <td>TFT6_Augment_CyberneticShell1</td>\n      <td>TFT6_Augment_CyberneticUplink2</td>\n      <td>TFT6_Augment_ComponentGrabBag</td>\n      <td>1.0</td>\n      <td>NaN</td>\n      <td>1.0</td>\n      <td>1.0</td>\n      <td>NaN</td>\n      <td>...</td>\n      <td>NaN</td>\n      <td>NaN</td>\n      <td>NaN</td>\n      <td>NaN</td>\n      <td>NaN</td>\n      <td>NaN</td>\n      <td>NaN</td>\n      <td>NaN</td>\n      <td>NaN</td>\n      <td>NaN</td>\n    </tr>\n  </tbody>\n</table>\n<p>5 rows × 269 columns</p>\n</div>"
     },
     "execution_count": 14,
     "metadata": {},
     "output_type": "execute_result"
    }
   ],
   "source": [
    "last_8.head()"
   ],
   "metadata": {
    "collapsed": false,
    "pycharm": {
     "name": "#%%\n"
    }
   }
  },
  {
   "cell_type": "code",
   "execution_count": 11,
   "outputs": [
    {
     "name": "stderr",
     "output_type": "stream",
     "text": [
      "C:\\Users\\domin\\AppData\\Local\\Temp\\ipykernel_16608\\3746524553.py:1: FutureWarning: In a future version of pandas all arguments of Series.sort_values will be keyword-only.\n",
      "  top_4_augment_df.groupby('augment').value_counts().sort_values(0,ascending=False).head()\n"
     ]
    },
    {
     "data": {
      "text/plain": "augment\nTFT6_Augment_PortableForge         4141\nTFT6_Augment_SecondWind2           2899\nTFT6_Augment_CelestialBlessing2    2842\nTFT6_Augment_Ascension             2660\nTFT6_Augment_Weakspot              2599\ndtype: int64"
     },
     "execution_count": 11,
     "metadata": {},
     "output_type": "execute_result"
    }
   ],
   "source": [
    "top_4_augment_df.groupby('augment').value_counts().sort_values(0,ascending=False).head()"
   ],
   "metadata": {
    "collapsed": false,
    "pycharm": {
     "name": "#%%\n"
    }
   }
  },
  {
   "cell_type": "code",
   "execution_count": 12,
   "outputs": [
    {
     "name": "stderr",
     "output_type": "stream",
     "text": [
      "C:\\Users\\domin\\AppData\\Local\\Temp\\ipykernel_16608\\3156569495.py:1: FutureWarning: In a future version of pandas all arguments of Series.sort_values will be keyword-only.\n",
      "  last_8_augment_df.groupby('augment').value_counts().sort_values(0,ascending=False).head()\n"
     ]
    },
    {
     "data": {
      "text/plain": "augment\nTFT6_Augment_PortableForge         779\nTFT6_Augment_SecondWind2           754\nTFT6_Augment_Ascension             716\nTFT6_Augment_ThrillOfTheHunt2      598\nTFT6_Augment_CelestialBlessing2    579\ndtype: int64"
     },
     "execution_count": 12,
     "metadata": {},
     "output_type": "execute_result"
    }
   ],
   "source": [
    "last_8_augment_df.groupby('augment').value_counts().sort_values(0,ascending=False).head()"
   ],
   "metadata": {
    "collapsed": false,
    "pycharm": {
     "name": "#%%\n"
    }
   }
  },
  {
   "cell_type": "code",
   "execution_count": 13,
   "outputs": [
    {
     "data": {
      "text/plain": "       placement        match_id                         augment0  \\\n5              8  NA1_4362523505    TFT6_Augment_CyberneticShell2   \n10             8  NA1_4366330000  TFT6_Augment_CelestialBlessing3   \n21             8  NA1_4366385242        TFT7_Augment_UrfsGrabBag1   \n27             8  NA1_4363640937        TFT7_Augment_EvokerEmblem   \n35             8  NA1_4362663270    TFT6_Augment_CyberneticShell1   \n...          ...             ...                              ...   \n59483          8  NA1_4362090437            TFT6_Augment_Weakspot   \n59490          8  NA1_4365951841            TFT6_Augment_TrueTwos   \n59503          8  NA1_4363403012        TFT7_Augment_UrfsGrabBag1   \n59511          8  NA1_4359246873  TFT7_Augment_DragonmancerEmblem   \n59513          8  NA1_4359261299           TFT6_Augment_ClearMind   \n\n                              augment1                          augment2  \\\n5            TFT7_Augment_UrfsGrabBag2        TFT6_Augment_PortableForge   \n10            TFT7_Augment_CursedCrown           TFT7_Augment_BigFriend2   \n21             TFT6_Augment_SalvageBin     TFT6_Augment_ThrillOfTheHunt2   \n27       TFT6_Augment_ThrillOfTheHunt1           TFT7_Augment_MageEmblem   \n35      TFT6_Augment_CyberneticUplink2     TFT6_Augment_ComponentGrabBag   \n...                                ...                               ...   \n59483         TFT6_Augment_SecondWind1           TFT6_Augment_Diversify2   \n59490         TFT6_Augment_SecondWind2        TFT6_Augment_PortableForge   \n59503      TFT7_Augment_RagewingEmblem         TFT7_Augment_BestFriends2   \n59511  TFT7_Augment_LategameSpecialist  TFT7_Augment_DragonmancerEmblem2   \n59513       TFT6_Augment_PandorasItems         TFT6_Augment_TheGoldenEgg   \n\n       Set7_Assassin  Set7_Astral  Set7_Bard  Set7_Bruiser  Set7_Cannoneer  \\\n5                0.0          1.0        NaN           2.0             NaN   \n10               NaN          0.0        NaN           3.0             NaN   \n21               NaN          NaN        NaN           NaN             1.0   \n27               NaN          NaN        1.0           0.0             NaN   \n35               1.0          NaN        1.0           1.0             NaN   \n...              ...          ...        ...           ...             ...   \n59483            NaN          NaN        NaN           NaN             NaN   \n59490            0.0          NaN        1.0           NaN             NaN   \n59503            0.0          NaN        NaN           0.0             NaN   \n59511            NaN          NaN        1.0           NaN             NaN   \n59513            1.0          NaN        NaN           0.0             NaN   \n\n       ...  TFT7_Yasuo_item1  TFT7_Yasuo_item2  TFT7_Yone  TFT7_Yone_item0  \\\n5      ...               NaN               NaN        NaN              NaN   \n10     ...               NaN               NaN        NaN              NaN   \n21     ...               NaN               NaN        NaN              NaN   \n27     ...      WarmogsArmor    MageEmblemItem        NaN              NaN   \n35     ...               NaN               NaN        NaN              NaN   \n...    ...               ...               ...        ...              ...   \n59483  ...               NaN               NaN        NaN              NaN   \n59490  ...               NaN               NaN        NaN              NaN   \n59503  ...               NaN               NaN        NaN              NaN   \n59511  ...               NaN               NaN        NaN              NaN   \n59513  ...               NaN               NaN        NaN              NaN   \n\n       TFT7_Yone_item1  TFT7_Yone_item2  TFT7_Zoe  TFT7_Zoe_item0  \\\n5                  NaN              NaN       NaN             NaN   \n10                 NaN              NaN       NaN             NaN   \n21                 NaN              NaN       NaN             NaN   \n27                 NaN              NaN       NaN             NaN   \n35                 NaN              NaN       NaN             NaN   \n...                ...              ...       ...             ...   \n59483              NaN              NaN       NaN             NaN   \n59490              NaN              NaN       NaN             NaN   \n59503              NaN              NaN       NaN             NaN   \n59511              NaN              NaN       NaN             NaN   \n59513              NaN              NaN       NaN             NaN   \n\n       TFT7_Zoe_item1  TFT7_Zoe_item2  \n5                 NaN             NaN  \n10                NaN             NaN  \n21                NaN             NaN  \n27                NaN             NaN  \n35                NaN             NaN  \n...               ...             ...  \n59483             NaN             NaN  \n59490             NaN             NaN  \n59503             NaN             NaN  \n59511             NaN             NaN  \n59513             NaN             NaN  \n\n[7440 rows x 269 columns]",
      "text/html": "<div>\n<style scoped>\n    .dataframe tbody tr th:only-of-type {\n        vertical-align: middle;\n    }\n\n    .dataframe tbody tr th {\n        vertical-align: top;\n    }\n\n    .dataframe thead th {\n        text-align: right;\n    }\n</style>\n<table border=\"1\" class=\"dataframe\">\n  <thead>\n    <tr style=\"text-align: right;\">\n      <th></th>\n      <th>placement</th>\n      <th>match_id</th>\n      <th>augment0</th>\n      <th>augment1</th>\n      <th>augment2</th>\n      <th>Set7_Assassin</th>\n      <th>Set7_Astral</th>\n      <th>Set7_Bard</th>\n      <th>Set7_Bruiser</th>\n      <th>Set7_Cannoneer</th>\n      <th>...</th>\n      <th>TFT7_Yasuo_item1</th>\n      <th>TFT7_Yasuo_item2</th>\n      <th>TFT7_Yone</th>\n      <th>TFT7_Yone_item0</th>\n      <th>TFT7_Yone_item1</th>\n      <th>TFT7_Yone_item2</th>\n      <th>TFT7_Zoe</th>\n      <th>TFT7_Zoe_item0</th>\n      <th>TFT7_Zoe_item1</th>\n      <th>TFT7_Zoe_item2</th>\n    </tr>\n  </thead>\n  <tbody>\n    <tr>\n      <th>5</th>\n      <td>8</td>\n      <td>NA1_4362523505</td>\n      <td>TFT6_Augment_CyberneticShell2</td>\n      <td>TFT7_Augment_UrfsGrabBag2</td>\n      <td>TFT6_Augment_PortableForge</td>\n      <td>0.0</td>\n      <td>1.0</td>\n      <td>NaN</td>\n      <td>2.0</td>\n      <td>NaN</td>\n      <td>...</td>\n      <td>NaN</td>\n      <td>NaN</td>\n      <td>NaN</td>\n      <td>NaN</td>\n      <td>NaN</td>\n      <td>NaN</td>\n      <td>NaN</td>\n      <td>NaN</td>\n      <td>NaN</td>\n      <td>NaN</td>\n    </tr>\n    <tr>\n      <th>10</th>\n      <td>8</td>\n      <td>NA1_4366330000</td>\n      <td>TFT6_Augment_CelestialBlessing3</td>\n      <td>TFT7_Augment_CursedCrown</td>\n      <td>TFT7_Augment_BigFriend2</td>\n      <td>NaN</td>\n      <td>0.0</td>\n      <td>NaN</td>\n      <td>3.0</td>\n      <td>NaN</td>\n      <td>...</td>\n      <td>NaN</td>\n      <td>NaN</td>\n      <td>NaN</td>\n      <td>NaN</td>\n      <td>NaN</td>\n      <td>NaN</td>\n      <td>NaN</td>\n      <td>NaN</td>\n      <td>NaN</td>\n      <td>NaN</td>\n    </tr>\n    <tr>\n      <th>21</th>\n      <td>8</td>\n      <td>NA1_4366385242</td>\n      <td>TFT7_Augment_UrfsGrabBag1</td>\n      <td>TFT6_Augment_SalvageBin</td>\n      <td>TFT6_Augment_ThrillOfTheHunt2</td>\n      <td>NaN</td>\n      <td>NaN</td>\n      <td>NaN</td>\n      <td>NaN</td>\n      <td>1.0</td>\n      <td>...</td>\n      <td>NaN</td>\n      <td>NaN</td>\n      <td>NaN</td>\n      <td>NaN</td>\n      <td>NaN</td>\n      <td>NaN</td>\n      <td>NaN</td>\n      <td>NaN</td>\n      <td>NaN</td>\n      <td>NaN</td>\n    </tr>\n    <tr>\n      <th>27</th>\n      <td>8</td>\n      <td>NA1_4363640937</td>\n      <td>TFT7_Augment_EvokerEmblem</td>\n      <td>TFT6_Augment_ThrillOfTheHunt1</td>\n      <td>TFT7_Augment_MageEmblem</td>\n      <td>NaN</td>\n      <td>NaN</td>\n      <td>1.0</td>\n      <td>0.0</td>\n      <td>NaN</td>\n      <td>...</td>\n      <td>WarmogsArmor</td>\n      <td>MageEmblemItem</td>\n      <td>NaN</td>\n      <td>NaN</td>\n      <td>NaN</td>\n      <td>NaN</td>\n      <td>NaN</td>\n      <td>NaN</td>\n      <td>NaN</td>\n      <td>NaN</td>\n    </tr>\n    <tr>\n      <th>35</th>\n      <td>8</td>\n      <td>NA1_4362663270</td>\n      <td>TFT6_Augment_CyberneticShell1</td>\n      <td>TFT6_Augment_CyberneticUplink2</td>\n      <td>TFT6_Augment_ComponentGrabBag</td>\n      <td>1.0</td>\n      <td>NaN</td>\n      <td>1.0</td>\n      <td>1.0</td>\n      <td>NaN</td>\n      <td>...</td>\n      <td>NaN</td>\n      <td>NaN</td>\n      <td>NaN</td>\n      <td>NaN</td>\n      <td>NaN</td>\n      <td>NaN</td>\n      <td>NaN</td>\n      <td>NaN</td>\n      <td>NaN</td>\n      <td>NaN</td>\n    </tr>\n    <tr>\n      <th>...</th>\n      <td>...</td>\n      <td>...</td>\n      <td>...</td>\n      <td>...</td>\n      <td>...</td>\n      <td>...</td>\n      <td>...</td>\n      <td>...</td>\n      <td>...</td>\n      <td>...</td>\n      <td>...</td>\n      <td>...</td>\n      <td>...</td>\n      <td>...</td>\n      <td>...</td>\n      <td>...</td>\n      <td>...</td>\n      <td>...</td>\n      <td>...</td>\n      <td>...</td>\n      <td>...</td>\n    </tr>\n    <tr>\n      <th>59483</th>\n      <td>8</td>\n      <td>NA1_4362090437</td>\n      <td>TFT6_Augment_Weakspot</td>\n      <td>TFT6_Augment_SecondWind1</td>\n      <td>TFT6_Augment_Diversify2</td>\n      <td>NaN</td>\n      <td>NaN</td>\n      <td>NaN</td>\n      <td>NaN</td>\n      <td>NaN</td>\n      <td>...</td>\n      <td>NaN</td>\n      <td>NaN</td>\n      <td>NaN</td>\n      <td>NaN</td>\n      <td>NaN</td>\n      <td>NaN</td>\n      <td>NaN</td>\n      <td>NaN</td>\n      <td>NaN</td>\n      <td>NaN</td>\n    </tr>\n    <tr>\n      <th>59490</th>\n      <td>8</td>\n      <td>NA1_4365951841</td>\n      <td>TFT6_Augment_TrueTwos</td>\n      <td>TFT6_Augment_SecondWind2</td>\n      <td>TFT6_Augment_PortableForge</td>\n      <td>0.0</td>\n      <td>NaN</td>\n      <td>1.0</td>\n      <td>NaN</td>\n      <td>NaN</td>\n      <td>...</td>\n      <td>NaN</td>\n      <td>NaN</td>\n      <td>NaN</td>\n      <td>NaN</td>\n      <td>NaN</td>\n      <td>NaN</td>\n      <td>NaN</td>\n      <td>NaN</td>\n      <td>NaN</td>\n      <td>NaN</td>\n    </tr>\n    <tr>\n      <th>59503</th>\n      <td>8</td>\n      <td>NA1_4363403012</td>\n      <td>TFT7_Augment_UrfsGrabBag1</td>\n      <td>TFT7_Augment_RagewingEmblem</td>\n      <td>TFT7_Augment_BestFriends2</td>\n      <td>0.0</td>\n      <td>NaN</td>\n      <td>NaN</td>\n      <td>0.0</td>\n      <td>NaN</td>\n      <td>...</td>\n      <td>NaN</td>\n      <td>NaN</td>\n      <td>NaN</td>\n      <td>NaN</td>\n      <td>NaN</td>\n      <td>NaN</td>\n      <td>NaN</td>\n      <td>NaN</td>\n      <td>NaN</td>\n      <td>NaN</td>\n    </tr>\n    <tr>\n      <th>59511</th>\n      <td>8</td>\n      <td>NA1_4359246873</td>\n      <td>TFT7_Augment_DragonmancerEmblem</td>\n      <td>TFT7_Augment_LategameSpecialist</td>\n      <td>TFT7_Augment_DragonmancerEmblem2</td>\n      <td>NaN</td>\n      <td>NaN</td>\n      <td>1.0</td>\n      <td>NaN</td>\n      <td>NaN</td>\n      <td>...</td>\n      <td>NaN</td>\n      <td>NaN</td>\n      <td>NaN</td>\n      <td>NaN</td>\n      <td>NaN</td>\n      <td>NaN</td>\n      <td>NaN</td>\n      <td>NaN</td>\n      <td>NaN</td>\n      <td>NaN</td>\n    </tr>\n    <tr>\n      <th>59513</th>\n      <td>8</td>\n      <td>NA1_4359261299</td>\n      <td>TFT6_Augment_ClearMind</td>\n      <td>TFT6_Augment_PandorasItems</td>\n      <td>TFT6_Augment_TheGoldenEgg</td>\n      <td>1.0</td>\n      <td>NaN</td>\n      <td>NaN</td>\n      <td>0.0</td>\n      <td>NaN</td>\n      <td>...</td>\n      <td>NaN</td>\n      <td>NaN</td>\n      <td>NaN</td>\n      <td>NaN</td>\n      <td>NaN</td>\n      <td>NaN</td>\n      <td>NaN</td>\n      <td>NaN</td>\n      <td>NaN</td>\n      <td>NaN</td>\n    </tr>\n  </tbody>\n</table>\n<p>7440 rows × 269 columns</p>\n</div>"
     },
     "execution_count": 13,
     "metadata": {},
     "output_type": "execute_result"
    }
   ],
   "source": [
    "last_8"
   ],
   "metadata": {
    "collapsed": false,
    "pycharm": {
     "name": "#%%\n"
    }
   }
  },
  {
   "cell_type": "code",
   "execution_count": null,
   "outputs": [],
   "source": [],
   "metadata": {
    "collapsed": false,
    "pycharm": {
     "name": "#%%\n"
    }
   }
  }
 ],
 "metadata": {
  "kernelspec": {
   "display_name": "Python 3",
   "language": "python",
   "name": "python3"
  },
  "language_info": {
   "codemirror_mode": {
    "name": "ipython",
    "version": 2
   },
   "file_extension": ".py",
   "mimetype": "text/x-python",
   "name": "python",
   "nbconvert_exporter": "python",
   "pygments_lexer": "ipython2",
   "version": "2.7.6"
  }
 },
 "nbformat": 4,
 "nbformat_minor": 0
}