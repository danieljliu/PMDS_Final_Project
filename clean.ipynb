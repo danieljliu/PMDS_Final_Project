{
 "cells": [
  {
   "cell_type": "code",
   "execution_count": 1,
   "outputs": [],
   "source": [
    "from library import initialize_data\n",
    "import csv\n",
    "import pandas as pd\n",
    "import matplotlib\n",
    "import numpy as np"
   ],
   "metadata": {
    "collapsed": false,
    "pycharm": {
     "name": "#%%\n"
    }
   }
  },
  {
   "cell_type": "code",
   "execution_count": 2,
   "outputs": [],
   "source": [
    "with open('data/tft_match_history.csv') as file:\n",
    "    reader = csv.reader(file)\n",
    "    header = next(reader)\n",
    "    tst = next(reader)\n",
    "\n",
    "    placement = tst[0]\n",
    "\n",
    "\n",
    "champs = header[33:]\n",
    "champ_indices = {}\n",
    "for i in range(len(champs)):\n",
    "    if i % 4 == 0:\n",
    "        champ_indices[champs[i]] = i\n",
    "\n",
    "champ_dict = initialize_data('champion')\n",
    "trait_dict = initialize_data('trait')\n"
   ],
   "metadata": {
    "collapsed": false,
    "pycharm": {
     "name": "#%%\n"
    }
   }
  },
  {
   "cell_type": "code",
   "execution_count": 3,
   "outputs": [
    {
     "name": "stdout",
     "output_type": "stream",
     "text": [
      "placement 0\n",
      "match_id 1\n",
      "augment0 2\n",
      "augment1 3\n",
      "augment2 4\n",
      "Set7_Assassin 5\n",
      "Set7_Astral 6\n",
      "Set7_Bard 7\n",
      "Set7_Bruiser 8\n",
      "Set7_Cannoneer 9\n",
      "Set7_Cavalier 10\n",
      "Set7_Dragon 11\n",
      "Set7_Dragonmancer 12\n",
      "Set7_Evoker 13\n",
      "Set7_Guardian 14\n",
      "Set7_Guild 15\n",
      "Set7_Jade 16\n",
      "Set7_Legend 17\n",
      "Set7_Mage 18\n",
      "Set7_Mirage 19\n",
      "Set7_Mystic 20\n",
      "Set7_Ragewing 21\n",
      "Set7_Revel 22\n",
      "Set7_Scalescorn 23\n",
      "Set7_Shapeshifter 24\n",
      "Set7_Shimmerscale 25\n",
      "Set7_SpellThief 26\n",
      "Set7_Starcaller 27\n",
      "Set7_Swiftshot 28\n",
      "Set7_Tempest 29\n",
      "Set7_Trainer 30\n",
      "Set7_Warrior 31\n",
      "Set7_Whispers 32\n",
      "TFT7_Aatrox 33\n",
      "TFT7_Aatrox_item0 34\n",
      "TFT7_Aatrox_item1 35\n",
      "TFT7_Aatrox_item2 36\n",
      "TFT7_Anivia 37\n",
      "TFT7_Anivia_item0 38\n",
      "TFT7_Anivia_item1 39\n",
      "TFT7_Anivia_item2 40\n",
      "TFT7_AoShin 41\n",
      "TFT7_AoShin_item0 42\n",
      "TFT7_AoShin_item1 43\n",
      "TFT7_AoShin_item2 44\n",
      "TFT7_Ashe 45\n",
      "TFT7_Ashe_item0 46\n",
      "TFT7_Ashe_item1 47\n",
      "TFT7_Ashe_item2 48\n",
      "TFT7_AurelionSol 49\n",
      "TFT7_AurelionSol_item0 50\n",
      "TFT7_AurelionSol_item1 51\n",
      "TFT7_AurelionSol_item2 52\n",
      "TFT7_Bard 53\n",
      "TFT7_Bard_item0 54\n",
      "TFT7_Bard_item1 55\n",
      "TFT7_Bard_item2 56\n",
      "TFT7_Braum 57\n",
      "TFT7_Braum_item0 58\n",
      "TFT7_Braum_item1 59\n",
      "TFT7_Braum_item2 60\n",
      "TFT7_Corki 61\n",
      "TFT7_Corki_item0 62\n",
      "TFT7_Corki_item1 63\n",
      "TFT7_Corki_item2 64\n",
      "TFT7_Diana 65\n",
      "TFT7_Diana_item0 66\n",
      "TFT7_Diana_item1 67\n",
      "TFT7_Diana_item2 68\n",
      "TFT7_DragonBlue 69\n",
      "TFT7_DragonBlue_item0 70\n",
      "TFT7_DragonBlue_item1 71\n",
      "TFT7_DragonBlue_item2 72\n",
      "TFT7_DragonGold 73\n",
      "TFT7_DragonGold_item0 74\n",
      "TFT7_DragonGold_item1 75\n",
      "TFT7_DragonGold_item2 76\n",
      "TFT7_DragonGreen 77\n",
      "TFT7_DragonGreen_item0 78\n",
      "TFT7_DragonGreen_item1 79\n",
      "TFT7_DragonGreen_item2 80\n",
      "TFT7_DragonPurple 81\n",
      "TFT7_DragonPurple_item0 82\n",
      "TFT7_DragonPurple_item1 83\n",
      "TFT7_DragonPurple_item2 84\n",
      "TFT7_Elise 85\n",
      "TFT7_Elise_item0 86\n",
      "TFT7_Elise_item1 87\n",
      "TFT7_Elise_item2 88\n",
      "TFT7_Ezreal 89\n",
      "TFT7_Ezreal_item0 90\n",
      "TFT7_Ezreal_item1 91\n",
      "TFT7_Ezreal_item2 92\n",
      "TFT7_Gnar 93\n",
      "TFT7_Gnar_item0 94\n",
      "TFT7_Gnar_item1 95\n",
      "TFT7_Gnar_item2 96\n",
      "TFT7_Hecarim 97\n",
      "TFT7_Hecarim_item0 98\n",
      "TFT7_Hecarim_item1 99\n",
      "TFT7_Hecarim_item2 100\n",
      "TFT7_Heimerdinger 101\n",
      "TFT7_Heimerdinger_item0 102\n",
      "TFT7_Heimerdinger_item1 103\n",
      "TFT7_Heimerdinger_item2 104\n",
      "TFT7_Illaoi 105\n",
      "TFT7_Illaoi_item0 106\n",
      "TFT7_Illaoi_item1 107\n",
      "TFT7_Illaoi_item2 108\n",
      "TFT7_Jinx 109\n",
      "TFT7_Jinx_item0 110\n",
      "TFT7_Jinx_item1 111\n",
      "TFT7_Jinx_item2 112\n",
      "TFT7_Karma 113\n",
      "TFT7_Karma_item0 114\n",
      "TFT7_Karma_item1 115\n",
      "TFT7_Karma_item2 116\n",
      "TFT7_Kayn 117\n",
      "TFT7_Kayn_item0 118\n",
      "TFT7_Kayn_item1 119\n",
      "TFT7_Kayn_item2 120\n",
      "TFT7_LeeSin 121\n",
      "TFT7_LeeSin_item0 122\n",
      "TFT7_LeeSin_item1 123\n",
      "TFT7_LeeSin_item2 124\n",
      "TFT7_Leona 125\n",
      "TFT7_Leona_item0 126\n",
      "TFT7_Leona_item1 127\n",
      "TFT7_Leona_item2 128\n",
      "TFT7_Lillia 129\n",
      "TFT7_Lillia_item0 130\n",
      "TFT7_Lillia_item1 131\n",
      "TFT7_Lillia_item2 132\n",
      "TFT7_Lulu 133\n",
      "TFT7_Lulu_item0 134\n",
      "TFT7_Lulu_item1 135\n",
      "TFT7_Lulu_item2 136\n",
      "TFT7_Nami 137\n",
      "TFT7_Nami_item0 138\n",
      "TFT7_Nami_item1 139\n",
      "TFT7_Nami_item2 140\n",
      "TFT7_Neeko 141\n",
      "TFT7_Neeko_item0 142\n",
      "TFT7_Neeko_item1 143\n",
      "TFT7_Neeko_item2 144\n",
      "TFT7_Nidalee 145\n",
      "TFT7_Nidalee_item0 146\n",
      "TFT7_Nidalee_item1 147\n",
      "TFT7_Nidalee_item2 148\n",
      "TFT7_Nunu 149\n",
      "TFT7_Nunu_item0 150\n",
      "TFT7_Nunu_item1 151\n",
      "TFT7_Nunu_item2 152\n",
      "TFT7_Olaf 153\n",
      "TFT7_Olaf_item0 154\n",
      "TFT7_Olaf_item1 155\n",
      "TFT7_Olaf_item2 156\n",
      "TFT7_Ornn 157\n",
      "TFT7_Ornn_item0 158\n",
      "TFT7_Ornn_item1 159\n",
      "TFT7_Ornn_item2 160\n",
      "TFT7_Pyke 161\n",
      "TFT7_Pyke_item0 162\n",
      "TFT7_Pyke_item1 163\n",
      "TFT7_Pyke_item2 164\n",
      "TFT7_Qiyana 165\n",
      "TFT7_Qiyana_item0 166\n",
      "TFT7_Qiyana_item1 167\n",
      "TFT7_Qiyana_item2 168\n",
      "TFT7_Ryze 169\n",
      "TFT7_Ryze_item0 170\n",
      "TFT7_Ryze_item1 171\n",
      "TFT7_Ryze_item2 172\n",
      "TFT7_Sejuani 173\n",
      "TFT7_Sejuani_item0 174\n",
      "TFT7_Sejuani_item1 175\n",
      "TFT7_Sejuani_item2 176\n",
      "TFT7_Senna 177\n",
      "TFT7_Senna_item0 178\n",
      "TFT7_Senna_item1 179\n",
      "TFT7_Senna_item2 180\n",
      "TFT7_Sett 181\n",
      "TFT7_Sett_item0 182\n",
      "TFT7_Sett_item1 183\n",
      "TFT7_Sett_item2 184\n",
      "TFT7_Shen 185\n",
      "TFT7_Shen_item0 186\n",
      "TFT7_Shen_item1 187\n",
      "TFT7_Shen_item2 188\n",
      "TFT7_Shyvana 189\n",
      "TFT7_Shyvana_item0 190\n",
      "TFT7_Shyvana_item1 191\n",
      "TFT7_Shyvana_item2 192\n",
      "TFT7_Skarner 193\n",
      "TFT7_Skarner_item0 194\n",
      "TFT7_Skarner_item1 195\n",
      "TFT7_Skarner_item2 196\n",
      "TFT7_Sona 197\n",
      "TFT7_Sona_item0 198\n",
      "TFT7_Sona_item1 199\n",
      "TFT7_Sona_item2 200\n",
      "TFT7_Soraka 201\n",
      "TFT7_Soraka_item0 202\n",
      "TFT7_Soraka_item1 203\n",
      "TFT7_Soraka_item2 204\n",
      "TFT7_Swain 205\n",
      "TFT7_Swain_item0 206\n",
      "TFT7_Swain_item1 207\n",
      "TFT7_Swain_item2 208\n",
      "TFT7_Sylas 209\n",
      "TFT7_Sylas_item0 210\n",
      "TFT7_Sylas_item1 211\n",
      "TFT7_Sylas_item2 212\n",
      "TFT7_TahmKench 213\n",
      "TFT7_TahmKench_item0 214\n",
      "TFT7_TahmKench_item1 215\n",
      "TFT7_TahmKench_item2 216\n",
      "TFT7_Talon 217\n",
      "TFT7_Talon_item0 218\n",
      "TFT7_Talon_item1 219\n",
      "TFT7_Talon_item2 220\n",
      "TFT7_Taric 221\n",
      "TFT7_Taric_item0 222\n",
      "TFT7_Taric_item1 223\n",
      "TFT7_Taric_item2 224\n",
      "TFT7_Thresh 225\n",
      "TFT7_Thresh_item0 226\n",
      "TFT7_Thresh_item1 227\n",
      "TFT7_Thresh_item2 228\n",
      "TFT7_TrainerDragon 229\n",
      "TFT7_TrainerDragon_item0 230\n",
      "TFT7_TrainerDragon_item1 231\n",
      "TFT7_TrainerDragon_item2 232\n",
      "TFT7_Tristana 233\n",
      "TFT7_Tristana_item0 234\n",
      "TFT7_Tristana_item1 235\n",
      "TFT7_Tristana_item2 236\n",
      "TFT7_Twitch 237\n",
      "TFT7_Twitch_item0 238\n",
      "TFT7_Twitch_item1 239\n",
      "TFT7_Twitch_item2 240\n",
      "TFT7_Varus 241\n",
      "TFT7_Varus_item0 242\n",
      "TFT7_Varus_item1 243\n",
      "TFT7_Varus_item2 244\n",
      "TFT7_Vladimir 245\n",
      "TFT7_Vladimir_item0 246\n",
      "TFT7_Vladimir_item1 247\n",
      "TFT7_Vladimir_item2 248\n",
      "TFT7_Volibear 249\n",
      "TFT7_Volibear_item0 250\n",
      "TFT7_Volibear_item1 251\n",
      "TFT7_Volibear_item2 252\n",
      "TFT7_Xayah 253\n",
      "TFT7_Xayah_item0 254\n",
      "TFT7_Xayah_item1 255\n",
      "TFT7_Xayah_item2 256\n",
      "TFT7_Yasuo 257\n",
      "TFT7_Yasuo_item0 258\n",
      "TFT7_Yasuo_item1 259\n",
      "TFT7_Yasuo_item2 260\n",
      "TFT7_Yone 261\n",
      "TFT7_Yone_item0 262\n",
      "TFT7_Yone_item1 263\n",
      "TFT7_Yone_item2 264\n",
      "TFT7_Zoe 265\n",
      "TFT7_Zoe_item0 266\n",
      "TFT7_Zoe_item1 267\n",
      "TFT7_Zoe_item2 268\n"
     ]
    }
   ],
   "source": [
    "for i,v in enumerate(header):\n",
    "    print(v, i)"
   ],
   "metadata": {
    "collapsed": false,
    "pycharm": {
     "name": "#%%\n"
    }
   }
  },
  {
   "cell_type": "code",
   "execution_count": 59,
   "outputs": [],
   "source": [
    "all_data_df = pd.read_csv('data/tft_match_history.csv',low_memory=False)\n",
    "item_df = all_data_df.filter(regex='_item')\n",
    "no_item_df = all_data_df[all_data_df.columns.drop(list(all_data_df.filter(regex='item')))]\n",
    "top_4_df = all_data_df[all_data_df['placement'] <= 4]\n",
    "last_place_df = all_data_df[all_data_df['placement'] == 8]\n",
    "first_place_df = all_data_df[all_data_df['placement'] == 1]"
   ],
   "metadata": {
    "collapsed": false,
    "pycharm": {
     "name": "#%%\n"
    }
   }
  },
  {
   "cell_type": "code",
   "execution_count": 5,
   "outputs": [],
   "source": [
    "def get_augments(df):\n",
    "    return pd.DataFrame(pd.concat([df['augment0'],df['augment1'],df['augment2']]),columns=['augment']).groupby('augment').value_counts().sort_values(ascending=False)\n",
    "\n",
    "def get_champions(df):\n",
    "    df = pd.DataFrame(df[df.columns[df.columns.isin(champ_indices.keys())]].notnull().astype('int'))\n",
    "    return (df.sum()/ df.sum().sum()).sort_values(ascending=False)\n",
    "\n",
    "def get_traits(df):\n",
    "    return df.loc[:,'Set7_Assassin':'Set7_Whispers'].replace(0.0, np.nan).notnull().astype('int').sum().sort_values(ascending=False) / len(df)"
   ],
   "metadata": {
    "collapsed": false,
    "pycharm": {
     "name": "#%%\n"
    }
   }
  },
  {
   "cell_type": "code",
   "execution_count": 6,
   "outputs": [
    {
     "data": {
      "text/plain": "    placement        match_id                         augment0  \\\n5           8  NA1_4362523505    TFT6_Augment_CyberneticShell2   \n10          8  NA1_4366330000  TFT6_Augment_CelestialBlessing3   \n21          8  NA1_4366385242        TFT7_Augment_UrfsGrabBag1   \n27          8  NA1_4363640937        TFT7_Augment_EvokerEmblem   \n35          8  NA1_4362663270    TFT6_Augment_CyberneticShell1   \n\n                          augment1                       augment2  \\\n5        TFT7_Augment_UrfsGrabBag2     TFT6_Augment_PortableForge   \n10        TFT7_Augment_CursedCrown        TFT7_Augment_BigFriend2   \n21         TFT6_Augment_SalvageBin  TFT6_Augment_ThrillOfTheHunt2   \n27   TFT6_Augment_ThrillOfTheHunt1        TFT7_Augment_MageEmblem   \n35  TFT6_Augment_CyberneticUplink2  TFT6_Augment_ComponentGrabBag   \n\n    Set7_Assassin  Set7_Astral  Set7_Bard  Set7_Bruiser  Set7_Cannoneer  ...  \\\n5             0.0          1.0        NaN           2.0             NaN  ...   \n10            NaN          0.0        NaN           3.0             NaN  ...   \n21            NaN          NaN        NaN           NaN             1.0  ...   \n27            NaN          NaN        1.0           0.0             NaN  ...   \n35            1.0          NaN        1.0           1.0             NaN  ...   \n\n    TFT7_Yasuo_item1  TFT7_Yasuo_item2  TFT7_Yone  TFT7_Yone_item0  \\\n5                NaN               NaN        NaN              NaN   \n10               NaN               NaN        NaN              NaN   \n21               NaN               NaN        NaN              NaN   \n27      WarmogsArmor    MageEmblemItem        NaN              NaN   \n35               NaN               NaN        NaN              NaN   \n\n    TFT7_Yone_item1  TFT7_Yone_item2  TFT7_Zoe  TFT7_Zoe_item0  \\\n5               NaN              NaN       NaN             NaN   \n10              NaN              NaN       NaN             NaN   \n21              NaN              NaN       NaN             NaN   \n27              NaN              NaN       NaN             NaN   \n35              NaN              NaN       NaN             NaN   \n\n    TFT7_Zoe_item1  TFT7_Zoe_item2  \n5              NaN             NaN  \n10             NaN             NaN  \n21             NaN             NaN  \n27             NaN             NaN  \n35             NaN             NaN  \n\n[5 rows x 269 columns]",
      "text/html": "<div>\n<style scoped>\n    .dataframe tbody tr th:only-of-type {\n        vertical-align: middle;\n    }\n\n    .dataframe tbody tr th {\n        vertical-align: top;\n    }\n\n    .dataframe thead th {\n        text-align: right;\n    }\n</style>\n<table border=\"1\" class=\"dataframe\">\n  <thead>\n    <tr style=\"text-align: right;\">\n      <th></th>\n      <th>placement</th>\n      <th>match_id</th>\n      <th>augment0</th>\n      <th>augment1</th>\n      <th>augment2</th>\n      <th>Set7_Assassin</th>\n      <th>Set7_Astral</th>\n      <th>Set7_Bard</th>\n      <th>Set7_Bruiser</th>\n      <th>Set7_Cannoneer</th>\n      <th>...</th>\n      <th>TFT7_Yasuo_item1</th>\n      <th>TFT7_Yasuo_item2</th>\n      <th>TFT7_Yone</th>\n      <th>TFT7_Yone_item0</th>\n      <th>TFT7_Yone_item1</th>\n      <th>TFT7_Yone_item2</th>\n      <th>TFT7_Zoe</th>\n      <th>TFT7_Zoe_item0</th>\n      <th>TFT7_Zoe_item1</th>\n      <th>TFT7_Zoe_item2</th>\n    </tr>\n  </thead>\n  <tbody>\n    <tr>\n      <th>5</th>\n      <td>8</td>\n      <td>NA1_4362523505</td>\n      <td>TFT6_Augment_CyberneticShell2</td>\n      <td>TFT7_Augment_UrfsGrabBag2</td>\n      <td>TFT6_Augment_PortableForge</td>\n      <td>0.0</td>\n      <td>1.0</td>\n      <td>NaN</td>\n      <td>2.0</td>\n      <td>NaN</td>\n      <td>...</td>\n      <td>NaN</td>\n      <td>NaN</td>\n      <td>NaN</td>\n      <td>NaN</td>\n      <td>NaN</td>\n      <td>NaN</td>\n      <td>NaN</td>\n      <td>NaN</td>\n      <td>NaN</td>\n      <td>NaN</td>\n    </tr>\n    <tr>\n      <th>10</th>\n      <td>8</td>\n      <td>NA1_4366330000</td>\n      <td>TFT6_Augment_CelestialBlessing3</td>\n      <td>TFT7_Augment_CursedCrown</td>\n      <td>TFT7_Augment_BigFriend2</td>\n      <td>NaN</td>\n      <td>0.0</td>\n      <td>NaN</td>\n      <td>3.0</td>\n      <td>NaN</td>\n      <td>...</td>\n      <td>NaN</td>\n      <td>NaN</td>\n      <td>NaN</td>\n      <td>NaN</td>\n      <td>NaN</td>\n      <td>NaN</td>\n      <td>NaN</td>\n      <td>NaN</td>\n      <td>NaN</td>\n      <td>NaN</td>\n    </tr>\n    <tr>\n      <th>21</th>\n      <td>8</td>\n      <td>NA1_4366385242</td>\n      <td>TFT7_Augment_UrfsGrabBag1</td>\n      <td>TFT6_Augment_SalvageBin</td>\n      <td>TFT6_Augment_ThrillOfTheHunt2</td>\n      <td>NaN</td>\n      <td>NaN</td>\n      <td>NaN</td>\n      <td>NaN</td>\n      <td>1.0</td>\n      <td>...</td>\n      <td>NaN</td>\n      <td>NaN</td>\n      <td>NaN</td>\n      <td>NaN</td>\n      <td>NaN</td>\n      <td>NaN</td>\n      <td>NaN</td>\n      <td>NaN</td>\n      <td>NaN</td>\n      <td>NaN</td>\n    </tr>\n    <tr>\n      <th>27</th>\n      <td>8</td>\n      <td>NA1_4363640937</td>\n      <td>TFT7_Augment_EvokerEmblem</td>\n      <td>TFT6_Augment_ThrillOfTheHunt1</td>\n      <td>TFT7_Augment_MageEmblem</td>\n      <td>NaN</td>\n      <td>NaN</td>\n      <td>1.0</td>\n      <td>0.0</td>\n      <td>NaN</td>\n      <td>...</td>\n      <td>WarmogsArmor</td>\n      <td>MageEmblemItem</td>\n      <td>NaN</td>\n      <td>NaN</td>\n      <td>NaN</td>\n      <td>NaN</td>\n      <td>NaN</td>\n      <td>NaN</td>\n      <td>NaN</td>\n      <td>NaN</td>\n    </tr>\n    <tr>\n      <th>35</th>\n      <td>8</td>\n      <td>NA1_4362663270</td>\n      <td>TFT6_Augment_CyberneticShell1</td>\n      <td>TFT6_Augment_CyberneticUplink2</td>\n      <td>TFT6_Augment_ComponentGrabBag</td>\n      <td>1.0</td>\n      <td>NaN</td>\n      <td>1.0</td>\n      <td>1.0</td>\n      <td>NaN</td>\n      <td>...</td>\n      <td>NaN</td>\n      <td>NaN</td>\n      <td>NaN</td>\n      <td>NaN</td>\n      <td>NaN</td>\n      <td>NaN</td>\n      <td>NaN</td>\n      <td>NaN</td>\n      <td>NaN</td>\n      <td>NaN</td>\n    </tr>\n  </tbody>\n</table>\n<p>5 rows × 269 columns</p>\n</div>"
     },
     "execution_count": 6,
     "metadata": {},
     "output_type": "execute_result"
    }
   ],
   "source": [
    "last_place_df.head()"
   ],
   "metadata": {
    "collapsed": false,
    "pycharm": {
     "name": "#%%\n"
    }
   }
  },
  {
   "cell_type": "code",
   "execution_count": 7,
   "outputs": [],
   "source": [
    "first_place_augments = get_augments(first_place_df)/get_augments(first_place_df).sum()\n",
    "last_place_augments = get_augments(last_place_df)/get_augments(last_place_df).sum()"
   ],
   "metadata": {
    "collapsed": false,
    "pycharm": {
     "name": "#%%\n"
    }
   }
  },
  {
   "cell_type": "code",
   "execution_count": 8,
   "outputs": [],
   "source": [
    "seen_augments = {}\n",
    "for augment, freq in first_place_augments.items():\n",
    "    seen_augments[augment] = freq - last_place_augments.get(augment,0)\n",
    "\n",
    "for augment, freq in last_place_augments.items():\n",
    "    if augment not in seen_augments.keys():\n",
    "        seen_augments[augment] = 0 - freq"
   ],
   "metadata": {
    "collapsed": false,
    "pycharm": {
     "name": "#%%\n"
    }
   }
  },
  {
   "cell_type": "code",
   "execution_count": 9,
   "outputs": [],
   "source": [
    "first_last_augment_diff = pd.DataFrame(pd.Series(seen_augments)).reset_index().rename(columns={'index':'augment',0:'freq'})"
   ],
   "metadata": {
    "collapsed": false,
    "pycharm": {
     "name": "#%%\n"
    }
   }
  },
  {
   "cell_type": "code",
   "execution_count": 10,
   "outputs": [
    {
     "data": {
      "text/plain": "                           augment      freq\n3          TFT6_Augment_Diversify2  0.014600\n0       TFT6_Augment_PortableForge  0.011797\n8        TFT7_Augment_BestFriends2  0.010485\n1            TFT6_Augment_Weakspot  0.009552\n2  TFT6_Augment_CelestialBlessing2  0.008245",
      "text/html": "<div>\n<style scoped>\n    .dataframe tbody tr th:only-of-type {\n        vertical-align: middle;\n    }\n\n    .dataframe tbody tr th {\n        vertical-align: top;\n    }\n\n    .dataframe thead th {\n        text-align: right;\n    }\n</style>\n<table border=\"1\" class=\"dataframe\">\n  <thead>\n    <tr style=\"text-align: right;\">\n      <th></th>\n      <th>augment</th>\n      <th>freq</th>\n    </tr>\n  </thead>\n  <tbody>\n    <tr>\n      <th>3</th>\n      <td>TFT6_Augment_Diversify2</td>\n      <td>0.014600</td>\n    </tr>\n    <tr>\n      <th>0</th>\n      <td>TFT6_Augment_PortableForge</td>\n      <td>0.011797</td>\n    </tr>\n    <tr>\n      <th>8</th>\n      <td>TFT7_Augment_BestFriends2</td>\n      <td>0.010485</td>\n    </tr>\n    <tr>\n      <th>1</th>\n      <td>TFT6_Augment_Weakspot</td>\n      <td>0.009552</td>\n    </tr>\n    <tr>\n      <th>2</th>\n      <td>TFT6_Augment_CelestialBlessing2</td>\n      <td>0.008245</td>\n    </tr>\n  </tbody>\n</table>\n</div>"
     },
     "execution_count": 10,
     "metadata": {},
     "output_type": "execute_result"
    }
   ],
   "source": [
    "first_last_augment_diff.sort_values('freq',ascending=False).head()"
   ],
   "metadata": {
    "collapsed": false,
    "pycharm": {
     "name": "#%%\n"
    }
   }
  },
  {
   "cell_type": "code",
   "execution_count": 11,
   "outputs": [
    {
     "data": {
      "text/plain": "TFT7_Yasuo    0.064578\nTFT7_Bard     0.063560\nTFT7_Ornn     0.057355\nTFT7_Talon    0.042007\nTFT7_Neeko    0.039134\ndtype: float64"
     },
     "execution_count": 11,
     "metadata": {},
     "output_type": "execute_result"
    }
   ],
   "source": [
    "get_champions(first_place_df).head()"
   ],
   "metadata": {
    "collapsed": false,
    "pycharm": {
     "name": "#%%\n"
    }
   }
  },
  {
   "cell_type": "code",
   "execution_count": 12,
   "outputs": [
    {
     "data": {
      "text/plain": "TFT7_Ornn     0.049881\nTFT7_Shen     0.046042\nTFT7_Lulu     0.039969\nTFT7_Talon    0.037048\nTFT7_Neeko    0.035329\ndtype: float64"
     },
     "execution_count": 12,
     "metadata": {},
     "output_type": "execute_result"
    }
   ],
   "source": [
    "get_champions(last_place_df).head()"
   ],
   "metadata": {
    "collapsed": false,
    "pycharm": {
     "name": "#%%\n"
    }
   }
  },
  {
   "cell_type": "code",
   "execution_count": 13,
   "outputs": [
    {
     "data": {
      "text/plain": "augment\nTFT6_Augment_Diversify2            0.014600\nTFT6_Augment_PortableForge         0.011797\nTFT7_Augment_BestFriends2          0.010485\nTFT6_Augment_Weakspot              0.009552\nTFT6_Augment_CelestialBlessing2    0.008245\ndtype: float64"
     },
     "execution_count": 13,
     "metadata": {},
     "output_type": "execute_result"
    }
   ],
   "source": [
    "(first_place_augments - last_place_augments).sort_values(ascending=False).head()"
   ],
   "metadata": {
    "collapsed": false,
    "pycharm": {
     "name": "#%%\n"
    }
   }
  },
  {
   "cell_type": "code",
   "execution_count": 14,
   "outputs": [
    {
     "data": {
      "text/plain": "TFT7_Bard      0.045036\nTFT7_Yasuo     0.042502\nTFT7_Soraka    0.019466\nTFT7_Pyke      0.016127\nTFT7_Zoe       0.008612\ndtype: float64"
     },
     "execution_count": 14,
     "metadata": {},
     "output_type": "execute_result"
    }
   ],
   "source": [
    "(get_champions(first_place_df)-get_champions(last_place_df)).sort_values(ascending=False).head()"
   ],
   "metadata": {
    "collapsed": false,
    "pycharm": {
     "name": "#%%\n"
    }
   }
  },
  {
   "cell_type": "code",
   "execution_count": 15,
   "outputs": [
    {
     "name": "stdout",
     "output_type": "stream",
     "text": [
      "placement 0\n",
      "match_id 1\n",
      "augment0 2\n",
      "augment1 3\n",
      "augment2 4\n",
      "Set7_Assassin 5\n",
      "Set7_Astral 6\n",
      "Set7_Bard 7\n",
      "Set7_Bruiser 8\n",
      "Set7_Cannoneer 9\n",
      "Set7_Cavalier 10\n",
      "Set7_Dragon 11\n",
      "Set7_Dragonmancer 12\n",
      "Set7_Evoker 13\n",
      "Set7_Guardian 14\n",
      "Set7_Guild 15\n",
      "Set7_Jade 16\n",
      "Set7_Legend 17\n",
      "Set7_Mage 18\n",
      "Set7_Mirage 19\n",
      "Set7_Mystic 20\n",
      "Set7_Ragewing 21\n",
      "Set7_Revel 22\n",
      "Set7_Scalescorn 23\n",
      "Set7_Shapeshifter 24\n",
      "Set7_Shimmerscale 25\n",
      "Set7_SpellThief 26\n",
      "Set7_Starcaller 27\n",
      "Set7_Swiftshot 28\n",
      "Set7_Tempest 29\n",
      "Set7_Trainer 30\n",
      "Set7_Warrior 31\n",
      "Set7_Whispers 32\n",
      "TFT7_Aatrox 33\n",
      "TFT7_Aatrox_item0 34\n",
      "TFT7_Aatrox_item1 35\n",
      "TFT7_Aatrox_item2 36\n",
      "TFT7_Anivia 37\n",
      "TFT7_Anivia_item0 38\n",
      "TFT7_Anivia_item1 39\n",
      "TFT7_Anivia_item2 40\n",
      "TFT7_AoShin 41\n",
      "TFT7_AoShin_item0 42\n",
      "TFT7_AoShin_item1 43\n",
      "TFT7_AoShin_item2 44\n",
      "TFT7_Ashe 45\n",
      "TFT7_Ashe_item0 46\n",
      "TFT7_Ashe_item1 47\n",
      "TFT7_Ashe_item2 48\n",
      "TFT7_AurelionSol 49\n",
      "TFT7_AurelionSol_item0 50\n",
      "TFT7_AurelionSol_item1 51\n",
      "TFT7_AurelionSol_item2 52\n",
      "TFT7_Bard 53\n",
      "TFT7_Bard_item0 54\n",
      "TFT7_Bard_item1 55\n",
      "TFT7_Bard_item2 56\n",
      "TFT7_Braum 57\n",
      "TFT7_Braum_item0 58\n",
      "TFT7_Braum_item1 59\n",
      "TFT7_Braum_item2 60\n",
      "TFT7_Corki 61\n",
      "TFT7_Corki_item0 62\n",
      "TFT7_Corki_item1 63\n",
      "TFT7_Corki_item2 64\n",
      "TFT7_Diana 65\n",
      "TFT7_Diana_item0 66\n",
      "TFT7_Diana_item1 67\n",
      "TFT7_Diana_item2 68\n",
      "TFT7_DragonBlue 69\n",
      "TFT7_DragonBlue_item0 70\n",
      "TFT7_DragonBlue_item1 71\n",
      "TFT7_DragonBlue_item2 72\n",
      "TFT7_DragonGold 73\n",
      "TFT7_DragonGold_item0 74\n",
      "TFT7_DragonGold_item1 75\n",
      "TFT7_DragonGold_item2 76\n",
      "TFT7_DragonGreen 77\n",
      "TFT7_DragonGreen_item0 78\n",
      "TFT7_DragonGreen_item1 79\n",
      "TFT7_DragonGreen_item2 80\n",
      "TFT7_DragonPurple 81\n",
      "TFT7_DragonPurple_item0 82\n",
      "TFT7_DragonPurple_item1 83\n",
      "TFT7_DragonPurple_item2 84\n",
      "TFT7_Elise 85\n",
      "TFT7_Elise_item0 86\n",
      "TFT7_Elise_item1 87\n",
      "TFT7_Elise_item2 88\n",
      "TFT7_Ezreal 89\n",
      "TFT7_Ezreal_item0 90\n",
      "TFT7_Ezreal_item1 91\n",
      "TFT7_Ezreal_item2 92\n",
      "TFT7_Gnar 93\n",
      "TFT7_Gnar_item0 94\n",
      "TFT7_Gnar_item1 95\n",
      "TFT7_Gnar_item2 96\n",
      "TFT7_Hecarim 97\n",
      "TFT7_Hecarim_item0 98\n",
      "TFT7_Hecarim_item1 99\n",
      "TFT7_Hecarim_item2 100\n",
      "TFT7_Heimerdinger 101\n",
      "TFT7_Heimerdinger_item0 102\n",
      "TFT7_Heimerdinger_item1 103\n",
      "TFT7_Heimerdinger_item2 104\n",
      "TFT7_Illaoi 105\n",
      "TFT7_Illaoi_item0 106\n",
      "TFT7_Illaoi_item1 107\n",
      "TFT7_Illaoi_item2 108\n",
      "TFT7_Jinx 109\n",
      "TFT7_Jinx_item0 110\n",
      "TFT7_Jinx_item1 111\n",
      "TFT7_Jinx_item2 112\n",
      "TFT7_Karma 113\n",
      "TFT7_Karma_item0 114\n",
      "TFT7_Karma_item1 115\n",
      "TFT7_Karma_item2 116\n",
      "TFT7_Kayn 117\n",
      "TFT7_Kayn_item0 118\n",
      "TFT7_Kayn_item1 119\n",
      "TFT7_Kayn_item2 120\n",
      "TFT7_LeeSin 121\n",
      "TFT7_LeeSin_item0 122\n",
      "TFT7_LeeSin_item1 123\n",
      "TFT7_LeeSin_item2 124\n",
      "TFT7_Leona 125\n",
      "TFT7_Leona_item0 126\n",
      "TFT7_Leona_item1 127\n",
      "TFT7_Leona_item2 128\n",
      "TFT7_Lillia 129\n",
      "TFT7_Lillia_item0 130\n",
      "TFT7_Lillia_item1 131\n",
      "TFT7_Lillia_item2 132\n",
      "TFT7_Lulu 133\n",
      "TFT7_Lulu_item0 134\n",
      "TFT7_Lulu_item1 135\n",
      "TFT7_Lulu_item2 136\n",
      "TFT7_Nami 137\n",
      "TFT7_Nami_item0 138\n",
      "TFT7_Nami_item1 139\n",
      "TFT7_Nami_item2 140\n",
      "TFT7_Neeko 141\n",
      "TFT7_Neeko_item0 142\n",
      "TFT7_Neeko_item1 143\n",
      "TFT7_Neeko_item2 144\n",
      "TFT7_Nidalee 145\n",
      "TFT7_Nidalee_item0 146\n",
      "TFT7_Nidalee_item1 147\n",
      "TFT7_Nidalee_item2 148\n",
      "TFT7_Nunu 149\n",
      "TFT7_Nunu_item0 150\n",
      "TFT7_Nunu_item1 151\n",
      "TFT7_Nunu_item2 152\n",
      "TFT7_Olaf 153\n",
      "TFT7_Olaf_item0 154\n",
      "TFT7_Olaf_item1 155\n",
      "TFT7_Olaf_item2 156\n",
      "TFT7_Ornn 157\n",
      "TFT7_Ornn_item0 158\n",
      "TFT7_Ornn_item1 159\n",
      "TFT7_Ornn_item2 160\n",
      "TFT7_Pyke 161\n",
      "TFT7_Pyke_item0 162\n",
      "TFT7_Pyke_item1 163\n",
      "TFT7_Pyke_item2 164\n",
      "TFT7_Qiyana 165\n",
      "TFT7_Qiyana_item0 166\n",
      "TFT7_Qiyana_item1 167\n",
      "TFT7_Qiyana_item2 168\n",
      "TFT7_Ryze 169\n",
      "TFT7_Ryze_item0 170\n",
      "TFT7_Ryze_item1 171\n",
      "TFT7_Ryze_item2 172\n",
      "TFT7_Sejuani 173\n",
      "TFT7_Sejuani_item0 174\n",
      "TFT7_Sejuani_item1 175\n",
      "TFT7_Sejuani_item2 176\n",
      "TFT7_Senna 177\n",
      "TFT7_Senna_item0 178\n",
      "TFT7_Senna_item1 179\n",
      "TFT7_Senna_item2 180\n",
      "TFT7_Sett 181\n",
      "TFT7_Sett_item0 182\n",
      "TFT7_Sett_item1 183\n",
      "TFT7_Sett_item2 184\n",
      "TFT7_Shen 185\n",
      "TFT7_Shen_item0 186\n",
      "TFT7_Shen_item1 187\n",
      "TFT7_Shen_item2 188\n",
      "TFT7_Shyvana 189\n",
      "TFT7_Shyvana_item0 190\n",
      "TFT7_Shyvana_item1 191\n",
      "TFT7_Shyvana_item2 192\n",
      "TFT7_Skarner 193\n",
      "TFT7_Skarner_item0 194\n",
      "TFT7_Skarner_item1 195\n",
      "TFT7_Skarner_item2 196\n",
      "TFT7_Sona 197\n",
      "TFT7_Sona_item0 198\n",
      "TFT7_Sona_item1 199\n",
      "TFT7_Sona_item2 200\n",
      "TFT7_Soraka 201\n",
      "TFT7_Soraka_item0 202\n",
      "TFT7_Soraka_item1 203\n",
      "TFT7_Soraka_item2 204\n",
      "TFT7_Swain 205\n",
      "TFT7_Swain_item0 206\n",
      "TFT7_Swain_item1 207\n",
      "TFT7_Swain_item2 208\n",
      "TFT7_Sylas 209\n",
      "TFT7_Sylas_item0 210\n",
      "TFT7_Sylas_item1 211\n",
      "TFT7_Sylas_item2 212\n",
      "TFT7_TahmKench 213\n",
      "TFT7_TahmKench_item0 214\n",
      "TFT7_TahmKench_item1 215\n",
      "TFT7_TahmKench_item2 216\n",
      "TFT7_Talon 217\n",
      "TFT7_Talon_item0 218\n",
      "TFT7_Talon_item1 219\n",
      "TFT7_Talon_item2 220\n",
      "TFT7_Taric 221\n",
      "TFT7_Taric_item0 222\n",
      "TFT7_Taric_item1 223\n",
      "TFT7_Taric_item2 224\n",
      "TFT7_Thresh 225\n",
      "TFT7_Thresh_item0 226\n",
      "TFT7_Thresh_item1 227\n",
      "TFT7_Thresh_item2 228\n",
      "TFT7_TrainerDragon 229\n",
      "TFT7_TrainerDragon_item0 230\n",
      "TFT7_TrainerDragon_item1 231\n",
      "TFT7_TrainerDragon_item2 232\n",
      "TFT7_Tristana 233\n",
      "TFT7_Tristana_item0 234\n",
      "TFT7_Tristana_item1 235\n",
      "TFT7_Tristana_item2 236\n",
      "TFT7_Twitch 237\n",
      "TFT7_Twitch_item0 238\n",
      "TFT7_Twitch_item1 239\n",
      "TFT7_Twitch_item2 240\n",
      "TFT7_Varus 241\n",
      "TFT7_Varus_item0 242\n",
      "TFT7_Varus_item1 243\n",
      "TFT7_Varus_item2 244\n",
      "TFT7_Vladimir 245\n",
      "TFT7_Vladimir_item0 246\n",
      "TFT7_Vladimir_item1 247\n",
      "TFT7_Vladimir_item2 248\n",
      "TFT7_Volibear 249\n",
      "TFT7_Volibear_item0 250\n",
      "TFT7_Volibear_item1 251\n",
      "TFT7_Volibear_item2 252\n",
      "TFT7_Xayah 253\n",
      "TFT7_Xayah_item0 254\n",
      "TFT7_Xayah_item1 255\n",
      "TFT7_Xayah_item2 256\n",
      "TFT7_Yasuo 257\n",
      "TFT7_Yasuo_item0 258\n",
      "TFT7_Yasuo_item1 259\n",
      "TFT7_Yasuo_item2 260\n",
      "TFT7_Yone 261\n",
      "TFT7_Yone_item0 262\n",
      "TFT7_Yone_item1 263\n",
      "TFT7_Yone_item2 264\n",
      "TFT7_Zoe 265\n",
      "TFT7_Zoe_item0 266\n",
      "TFT7_Zoe_item1 267\n",
      "TFT7_Zoe_item2 268\n"
     ]
    }
   ],
   "source": [
    "for i,v in enumerate(header):\n",
    "    print(v, i)"
   ],
   "metadata": {
    "collapsed": false,
    "pycharm": {
     "name": "#%%\n"
    }
   }
  },
  {
   "cell_type": "code",
   "execution_count": 16,
   "outputs": [
    {
     "data": {
      "text/plain": "Set7_Guild      0.762366\nSet7_Dragon     0.753898\nSet7_Bard       0.520565\nSet7_Bruiser    0.498522\nSet7_Tempest    0.387634\ndtype: float64"
     },
     "execution_count": 16,
     "metadata": {},
     "output_type": "execute_result"
    }
   ],
   "source": [
    "get_traits(first_place_df).head()"
   ],
   "metadata": {
    "collapsed": false,
    "pycharm": {
     "name": "#%%\n"
    }
   }
  },
  {
   "cell_type": "code",
   "execution_count": 17,
   "outputs": [
    {
     "data": {
      "text/plain": "Set7_Dragon     0.645699\nSet7_Guild      0.534140\nSet7_Bruiser    0.422312\nSet7_Jade       0.264516\nSet7_Tempest    0.253898\ndtype: float64"
     },
     "execution_count": 17,
     "metadata": {},
     "output_type": "execute_result"
    }
   ],
   "source": [
    "get_traits(last_place_df).head()"
   ],
   "metadata": {
    "collapsed": false,
    "pycharm": {
     "name": "#%%\n"
    }
   }
  },
  {
   "cell_type": "code",
   "execution_count": 44,
   "outputs": [],
   "source": [
    "first_place_traits = first_place_df.loc[:,'Set7_Assassin':'Set7_Whispers'].replace(np.nan,0.0)"
   ],
   "metadata": {
    "collapsed": false,
    "pycharm": {
     "name": "#%%\n"
    }
   }
  },
  {
   "cell_type": "code",
   "execution_count": 19,
   "outputs": [],
   "source": [
    "def get_level(trait, level):\n",
    "    trait = trait.split('_')[1].lower()\n",
    "    milestones = trait_dict[trait].milestones\n",
    "    bonus = 0\n",
    "    for milestone in milestones:\n",
    "        if level > int(milestone):\n",
    "            bonus += 1\n",
    "\n",
    "    return trait,bonus"
   ],
   "metadata": {
    "collapsed": false,
    "pycharm": {
     "name": "#%%\n"
    }
   }
  },
  {
   "cell_type": "code",
   "execution_count": 46,
   "outputs": [],
   "source": [
    "def get_total_bonus(df):\n",
    "    traits = {}\n",
    "    for col in df:\n",
    "        for row in df[col]:\n",
    "            trait = col.split('_')[1].lower()\n",
    "            if row < 1:\n",
    "                continue\n",
    "\n",
    "            traits[trait+str(int(row))] = traits.get(trait+str(int(row)),0) + 1\n",
    "\n",
    "    return pd.Series(traits)"
   ],
   "metadata": {
    "collapsed": false,
    "pycharm": {
     "name": "#%%\n"
    }
   }
  },
  {
   "cell_type": "code",
   "execution_count": 47,
   "outputs": [
    {
     "data": {
      "text/plain": "dragon1      5321\nbard1        3873\nguild1       3208\nbruiser1     2791\ntempest1     2430\n             ... \nmystic4         3\nwarrior3        3\nmage4           2\nguardian3       2\ntempest4        1\nLength: 86, dtype: int64"
     },
     "execution_count": 47,
     "metadata": {},
     "output_type": "execute_result"
    }
   ],
   "source": [
    "get_total_bonus(first_place_traits).sort_values(ascending=False)"
   ],
   "metadata": {
    "collapsed": false,
    "pycharm": {
     "name": "#%%\n"
    }
   }
  },
  {
   "cell_type": "code",
   "execution_count": 29,
   "outputs": [
    {
     "data": {
      "text/plain": "<Figure size 432x288 with 1 Axes>",
      "image/png": "[encoded data removed]"
     },
     "metadata": {
      "needs_background": "light"
     },
     "output_type": "display_data"
    }
   ],
   "source": [
    "get_champions(first_place_df)[:10].plot.barh().invert_yaxis()"
   ],
   "metadata": {
    "collapsed": false,
    "pycharm": {
     "name": "#%%\n"
    }
   }
  },
  {
   "cell_type": "code",
   "execution_count": 33,
   "outputs": [
    {
     "data": {
      "text/plain": "<Figure size 432x288 with 1 Axes>",
      "image/png": "[encoded data removed]"
     },
     "metadata": {
      "needs_background": "light"
     },
     "output_type": "display_data"
    }
   ],
   "source": [
    "get_champions(last_place_df)[:10].plot.barh().invert_yaxis()"
   ],
   "metadata": {
    "collapsed": false,
    "pycharm": {
     "name": "#%%\n"
    }
   }
  },
  {
   "cell_type": "code",
   "execution_count": 28,
   "outputs": [
    {
     "data": {
      "text/plain": "<Figure size 432x288 with 1 Axes>",
      "image/png": "[encoded data removed]"
     },
     "metadata": {
      "needs_background": "light"
     },
     "output_type": "display_data"
    }
   ],
   "source": [
    "get_champions(top_4_df)[:10].plot.barh().invert_yaxis()"
   ],
   "metadata": {
    "collapsed": false,
    "pycharm": {
     "name": "#%%\n"
    }
   }
  },
  {
   "cell_type": "code",
   "execution_count": 81,
   "outputs": [
    {
     "name": "stdout",
     "output_type": "stream",
     "text": [
      "first place\n"
     ]
    },
    {
     "data": {
      "text/plain": "<Figure size 432x288 with 1 Axes>",
      "image/png": "[encoded data removed]"
     },
     "metadata": {
      "needs_background": "light"
     },
     "output_type": "display_data"
    }
   ],
   "source": [
    "df = first_place_df\n",
    "_ = pd.DataFrame(df[df.columns[df.columns.isin(champ_indices.keys())]].replace(np.nan,0.0))\n",
    "print('first place')\n",
    "get_total_bonus(_).sort_values(ascending=False)[:10].plot.barh().invert_yaxis()"
   ],
   "metadata": {
    "collapsed": false,
    "pycharm": {
     "name": "#%%\n"
    }
   }
  },
  {
   "cell_type": "code",
   "execution_count": 82,
   "outputs": [
    {
     "name": "stdout",
     "output_type": "stream",
     "text": [
      "last place\n"
     ]
    },
    {
     "data": {
      "text/plain": "<Figure size 432x288 with 1 Axes>",
      "image/png": "[encoded data removed]"
     },
     "metadata": {
      "needs_background": "light"
     },
     "output_type": "display_data"
    }
   ],
   "source": [
    "df = last_place_df\n",
    "_ = pd.DataFrame(df[df.columns[df.columns.isin(champ_indices.keys())]].replace(np.nan,0.0))\n",
    "print('last place')\n",
    "get_total_bonus(_).sort_values(ascending=False)[:10].plot.barh().invert_yaxis()"
   ],
   "metadata": {
    "collapsed": false,
    "pycharm": {
     "name": "#%%\n"
    }
   }
  },
  {
   "cell_type": "code",
   "execution_count": 58,
   "outputs": [
    {
     "data": {
      "text/plain": "       placement        match_id                             augment0  \\\n0              3  NA1_4362523505            TFT6_Augment_JeweledLotus   \n1              6  NA1_4362523505           TFT6_Augment_ThreesCompany   \n2              1  NA1_4362523505             TFT7_Augment_MikaelsGift   \n3              4  NA1_4362523505      TFT6_Augment_CelestialBlessing2   \n4              2  NA1_4362523505  TFT7_Augment_BruiserTitanicStrength   \n...          ...             ...                                  ...   \n59515          3  NA1_4359261299           TFT6_Augment_PortableForge   \n59516          7  NA1_4359261299           TFT7_Augment_PandorasBench   \n59517          1  NA1_4359261299        TFT6_Augment_ThrillOfTheHunt2   \n59518          4  NA1_4359261299           TFT6_Augment_TargetDummies   \n59519          6  NA1_4359261299          TFT7_Augment_AssassinEmblem   \n\n                              augment1                         augment2  \\\n0      TFT7_Augment_ShapeshifterTrait2  TFT6_Augment_CelestialBlessing2   \n1           TFT6_Augment_RadiantRelics        TFT7_Augment_BestFriends2   \n2         TFT7_Augment_AssassinEmblem2        TFT7_Augment_FirstAidKit2   \n3         TFT7_Augment_WhispersEmblem2           TFT6_Augment_Ascension   \n4              TFT6_Augment_Diversify3        TFT7_Augment_BestFriends2   \n...                                ...                              ...   \n59515         TFT6_Augment_Meditation1          TFT6_Augment_Diversify3   \n59516         TFT6_Augment_SecondWind1     TFT6_Augment_MakeshiftArmor3   \n59517       TFT7_Augment_WhispersTrait        TFT6_Augment_TheGoldenEgg   \n59518         TFT6_Augment_SecondWind1       TFT6_Augment_ForceOfNature   \n59519          TFT6_Augment_TinyTitans           TFT7_Augment_ThinkFast   \n\n       Set7_Assassin  Set7_Astral  Set7_Bard  Set7_Bruiser  Set7_Cannoneer  \\\n0                NaN          0.0        NaN           NaN             NaN   \n1                2.0          NaN        NaN           2.0             NaN   \n2                3.0          NaN        1.0           1.0             NaN   \n3                0.0          NaN        NaN           1.0             NaN   \n4                1.0          NaN        NaN           2.0             NaN   \n...              ...          ...        ...           ...             ...   \n59515            NaN          NaN        1.0           1.0             NaN   \n59516            NaN          NaN        NaN           NaN             NaN   \n59517            1.0          NaN        1.0           2.0             NaN   \n59518            NaN          NaN        NaN           NaN             1.0   \n59519            2.0          NaN        NaN           2.0             NaN   \n\n       ...  TFT7_TrainerDragon  TFT7_Tristana  TFT7_Twitch  TFT7_Varus  \\\n0      ...                 NaN            NaN          NaN         NaN   \n1      ...                 NaN            NaN          NaN         NaN   \n2      ...                 NaN            NaN          NaN         NaN   \n3      ...                 NaN            NaN          NaN         NaN   \n4      ...                 NaN            NaN          NaN         NaN   \n...    ...                 ...            ...          ...         ...   \n59515  ...                 NaN            NaN          2.0         NaN   \n59516  ...                 NaN            NaN          NaN         NaN   \n59517  ...                 NaN            NaN          NaN         NaN   \n59518  ...                 4.0            1.0          NaN         NaN   \n59519  ...                 NaN            NaN          NaN         NaN   \n\n       TFT7_Vladimir  TFT7_Volibear  TFT7_Xayah  TFT7_Yasuo  TFT7_Yone  \\\n0                NaN            NaN         NaN         NaN        NaN   \n1                NaN            NaN         NaN         NaN        NaN   \n2                NaN            NaN         NaN         NaN        NaN   \n3                NaN            NaN         NaN         1.0        NaN   \n4                NaN            NaN         NaN         NaN        NaN   \n...              ...            ...         ...         ...        ...   \n59515            NaN            NaN         2.0         2.0        NaN   \n59516            NaN            2.0         2.0         NaN        NaN   \n59517            NaN            NaN         NaN         2.0        NaN   \n59518            NaN            NaN         NaN         1.0        NaN   \n59519            NaN            NaN         NaN         NaN        NaN   \n\n       TFT7_Zoe  \n0           NaN  \n1           NaN  \n2           NaN  \n3           NaN  \n4           NaN  \n...         ...  \n59515       NaN  \n59516       NaN  \n59517       NaN  \n59518       NaN  \n59519       NaN  \n\n[59520 rows x 92 columns]",
      "text/html": "<div>\n<style scoped>\n    .dataframe tbody tr th:only-of-type {\n        vertical-align: middle;\n    }\n\n    .dataframe tbody tr th {\n        vertical-align: top;\n    }\n\n    .dataframe thead th {\n        text-align: right;\n    }\n</style>\n<table border=\"1\" class=\"dataframe\">\n  <thead>\n    <tr style=\"text-align: right;\">\n      <th></th>\n      <th>placement</th>\n      <th>match_id</th>\n      <th>augment0</th>\n      <th>augment1</th>\n      <th>augment2</th>\n      <th>Set7_Assassin</th>\n      <th>Set7_Astral</th>\n      <th>Set7_Bard</th>\n      <th>Set7_Bruiser</th>\n      <th>Set7_Cannoneer</th>\n      <th>...</th>\n      <th>TFT7_TrainerDragon</th>\n      <th>TFT7_Tristana</th>\n      <th>TFT7_Twitch</th>\n      <th>TFT7_Varus</th>\n      <th>TFT7_Vladimir</th>\n      <th>TFT7_Volibear</th>\n      <th>TFT7_Xayah</th>\n      <th>TFT7_Yasuo</th>\n      <th>TFT7_Yone</th>\n      <th>TFT7_Zoe</th>\n    </tr>\n  </thead>\n  <tbody>\n    <tr>\n      <th>0</th>\n      <td>3</td>\n      <td>NA1_4362523505</td>\n      <td>TFT6_Augment_JeweledLotus</td>\n      <td>TFT7_Augment_ShapeshifterTrait2</td>\n      <td>TFT6_Augment_CelestialBlessing2</td>\n      <td>NaN</td>\n      <td>0.0</td>\n      <td>NaN</td>\n      <td>NaN</td>\n      <td>NaN</td>\n      <td>...</td>\n      <td>NaN</td>\n      <td>NaN</td>\n      <td>NaN</td>\n      <td>NaN</td>\n      <td>NaN</td>\n      <td>NaN</td>\n      <td>NaN</td>\n      <td>NaN</td>\n      <td>NaN</td>\n      <td>NaN</td>\n    </tr>\n    <tr>\n      <th>1</th>\n      <td>6</td>\n      <td>NA1_4362523505</td>\n      <td>TFT6_Augment_ThreesCompany</td>\n      <td>TFT6_Augment_RadiantRelics</td>\n      <td>TFT7_Augment_BestFriends2</td>\n      <td>2.0</td>\n      <td>NaN</td>\n      <td>NaN</td>\n      <td>2.0</td>\n      <td>NaN</td>\n      <td>...</td>\n      <td>NaN</td>\n      <td>NaN</td>\n      <td>NaN</td>\n      <td>NaN</td>\n      <td>NaN</td>\n      <td>NaN</td>\n      <td>NaN</td>\n      <td>NaN</td>\n      <td>NaN</td>\n      <td>NaN</td>\n    </tr>\n    <tr>\n      <th>2</th>\n      <td>1</td>\n      <td>NA1_4362523505</td>\n      <td>TFT7_Augment_MikaelsGift</td>\n      <td>TFT7_Augment_AssassinEmblem2</td>\n      <td>TFT7_Augment_FirstAidKit2</td>\n      <td>3.0</td>\n      <td>NaN</td>\n      <td>1.0</td>\n      <td>1.0</td>\n      <td>NaN</td>\n      <td>...</td>\n      <td>NaN</td>\n      <td>NaN</td>\n      <td>NaN</td>\n      <td>NaN</td>\n      <td>NaN</td>\n      <td>NaN</td>\n      <td>NaN</td>\n      <td>NaN</td>\n      <td>NaN</td>\n      <td>NaN</td>\n    </tr>\n    <tr>\n      <th>3</th>\n      <td>4</td>\n      <td>NA1_4362523505</td>\n      <td>TFT6_Augment_CelestialBlessing2</td>\n      <td>TFT7_Augment_WhispersEmblem2</td>\n      <td>TFT6_Augment_Ascension</td>\n      <td>0.0</td>\n      <td>NaN</td>\n      <td>NaN</td>\n      <td>1.0</td>\n      <td>NaN</td>\n      <td>...</td>\n      <td>NaN</td>\n      <td>NaN</td>\n      <td>NaN</td>\n      <td>NaN</td>\n      <td>NaN</td>\n      <td>NaN</td>\n      <td>NaN</td>\n      <td>1.0</td>\n      <td>NaN</td>\n      <td>NaN</td>\n    </tr>\n    <tr>\n      <th>4</th>\n      <td>2</td>\n      <td>NA1_4362523505</td>\n      <td>TFT7_Augment_BruiserTitanicStrength</td>\n      <td>TFT6_Augment_Diversify3</td>\n      <td>TFT7_Augment_BestFriends2</td>\n      <td>1.0</td>\n      <td>NaN</td>\n      <td>NaN</td>\n      <td>2.0</td>\n      <td>NaN</td>\n      <td>...</td>\n      <td>NaN</td>\n      <td>NaN</td>\n      <td>NaN</td>\n      <td>NaN</td>\n      <td>NaN</td>\n      <td>NaN</td>\n      <td>NaN</td>\n      <td>NaN</td>\n      <td>NaN</td>\n      <td>NaN</td>\n    </tr>\n    <tr>\n      <th>...</th>\n      <td>...</td>\n      <td>...</td>\n      <td>...</td>\n      <td>...</td>\n      <td>...</td>\n      <td>...</td>\n      <td>...</td>\n      <td>...</td>\n      <td>...</td>\n      <td>...</td>\n      <td>...</td>\n      <td>...</td>\n      <td>...</td>\n      <td>...</td>\n      <td>...</td>\n      <td>...</td>\n      <td>...</td>\n      <td>...</td>\n      <td>...</td>\n      <td>...</td>\n      <td>...</td>\n    </tr>\n    <tr>\n      <th>59515</th>\n      <td>3</td>\n      <td>NA1_4359261299</td>\n      <td>TFT6_Augment_PortableForge</td>\n      <td>TFT6_Augment_Meditation1</td>\n      <td>TFT6_Augment_Diversify3</td>\n      <td>NaN</td>\n      <td>NaN</td>\n      <td>1.0</td>\n      <td>1.0</td>\n      <td>NaN</td>\n      <td>...</td>\n      <td>NaN</td>\n      <td>NaN</td>\n      <td>2.0</td>\n      <td>NaN</td>\n      <td>NaN</td>\n      <td>NaN</td>\n      <td>2.0</td>\n      <td>2.0</td>\n      <td>NaN</td>\n      <td>NaN</td>\n    </tr>\n    <tr>\n      <th>59516</th>\n      <td>7</td>\n      <td>NA1_4359261299</td>\n      <td>TFT7_Augment_PandorasBench</td>\n      <td>TFT6_Augment_SecondWind1</td>\n      <td>TFT6_Augment_MakeshiftArmor3</td>\n      <td>NaN</td>\n      <td>NaN</td>\n      <td>NaN</td>\n      <td>NaN</td>\n      <td>NaN</td>\n      <td>...</td>\n      <td>NaN</td>\n      <td>NaN</td>\n      <td>NaN</td>\n      <td>NaN</td>\n      <td>NaN</td>\n      <td>2.0</td>\n      <td>2.0</td>\n      <td>NaN</td>\n      <td>NaN</td>\n      <td>NaN</td>\n    </tr>\n    <tr>\n      <th>59517</th>\n      <td>1</td>\n      <td>NA1_4359261299</td>\n      <td>TFT6_Augment_ThrillOfTheHunt2</td>\n      <td>TFT7_Augment_WhispersTrait</td>\n      <td>TFT6_Augment_TheGoldenEgg</td>\n      <td>1.0</td>\n      <td>NaN</td>\n      <td>1.0</td>\n      <td>2.0</td>\n      <td>NaN</td>\n      <td>...</td>\n      <td>NaN</td>\n      <td>NaN</td>\n      <td>NaN</td>\n      <td>NaN</td>\n      <td>NaN</td>\n      <td>NaN</td>\n      <td>NaN</td>\n      <td>2.0</td>\n      <td>NaN</td>\n      <td>NaN</td>\n    </tr>\n    <tr>\n      <th>59518</th>\n      <td>4</td>\n      <td>NA1_4359261299</td>\n      <td>TFT6_Augment_TargetDummies</td>\n      <td>TFT6_Augment_SecondWind1</td>\n      <td>TFT6_Augment_ForceOfNature</td>\n      <td>NaN</td>\n      <td>NaN</td>\n      <td>NaN</td>\n      <td>NaN</td>\n      <td>1.0</td>\n      <td>...</td>\n      <td>4.0</td>\n      <td>1.0</td>\n      <td>NaN</td>\n      <td>NaN</td>\n      <td>NaN</td>\n      <td>NaN</td>\n      <td>NaN</td>\n      <td>1.0</td>\n      <td>NaN</td>\n      <td>NaN</td>\n    </tr>\n    <tr>\n      <th>59519</th>\n      <td>6</td>\n      <td>NA1_4359261299</td>\n      <td>TFT7_Augment_AssassinEmblem</td>\n      <td>TFT6_Augment_TinyTitans</td>\n      <td>TFT7_Augment_ThinkFast</td>\n      <td>2.0</td>\n      <td>NaN</td>\n      <td>NaN</td>\n      <td>2.0</td>\n      <td>NaN</td>\n      <td>...</td>\n      <td>NaN</td>\n      <td>NaN</td>\n      <td>NaN</td>\n      <td>NaN</td>\n      <td>NaN</td>\n      <td>NaN</td>\n      <td>NaN</td>\n      <td>NaN</td>\n      <td>NaN</td>\n      <td>NaN</td>\n    </tr>\n  </tbody>\n</table>\n<p>59520 rows × 92 columns</p>\n</div>"
     },
     "execution_count": 58,
     "metadata": {},
     "output_type": "execute_result"
    }
   ],
   "source": [
    "no_item_df"
   ],
   "metadata": {
    "collapsed": false,
    "pycharm": {
     "name": "#%%\n"
    }
   }
  },
  {
   "cell_type": "code",
   "execution_count": 74,
   "outputs": [],
   "source": [
    "_ = ''\n",
    "for item in item_df['all_items']:\n",
    "    _ += item"
   ],
   "metadata": {
    "collapsed": false,
    "pycharm": {
     "name": "#%%\n"
    }
   }
  },
  {
   "cell_type": "code",
   "execution_count": 80,
   "outputs": [
    {
     "data": {
      "text/plain": "RedBuff                             32775\nGuinsoosRageblade                   30855\nMadredsBloodrazor                   26375\nInfinityEdge                        21518\nQuicksilver                         19575\n                                    ...  \nStatikkShivGiantSlayerRadiant           1\nNegatronCloakRunaansHurricane           1\nChainVestShimmerscaleHeartOfGold        1\nNoneShimmerscaleCrownOfChampions        1\nArchangelsStaffTempestEmblemItem        1\nLength: 4566, dtype: int64"
     },
     "execution_count": 80,
     "metadata": {},
     "output_type": "execute_result"
    }
   ],
   "source": [
    "pd.Series(_.split(',')).value_counts().drop('None')"
   ],
   "metadata": {
    "collapsed": false,
    "pycharm": {
     "name": "#%%\n"
    }
   }
  },
  {
   "cell_type": "code",
   "execution_count": null,
   "outputs": [],
   "source": [],
   "metadata": {
    "collapsed": false,
    "pycharm": {
     "name": "#%%\n"
    }
   }
  }
 ],
 "metadata": {
  "kernelspec": {
   "display_name": "Python 3",
   "language": "python",
   "name": "python3"
  },
  "language_info": {
   "codemirror_mode": {
    "name": "ipython",
    "version": 2
   },
   "file_extension": ".py",
   "mimetype": "text/x-python",
   "name": "python",
   "nbconvert_exporter": "python",
   "pygments_lexer": "ipython2",
   "version": "2.7.6"
  }
 },
 "nbformat": 4,
 "nbformat_minor": 0
}